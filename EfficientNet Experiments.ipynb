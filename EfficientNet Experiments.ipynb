{
 "cells": [
  {
   "cell_type": "markdown",
   "metadata": {},
   "source": [
    "# Goal - Make EfficientNet"
   ]
  },
  {
   "cell_type": "code",
   "execution_count": 2,
   "metadata": {},
   "outputs": [],
   "source": [
    "import os\n",
    "import math\n",
    "import keras\n",
    "import random\n",
    "import numpy as np\n",
    "import pandas as pd\n",
    "from random import shuffle\n",
    "from skimage.io import imread\n",
    "from sklearn.model_selection import train_test_split\n",
    "from sklearn.metrics import confusion_matrix\n",
    "\n",
    "from keras.models import load_model\n",
    "from keras.models import Sequential, Model\n",
    "from keras.preprocessing.image import ImageDataGenerator\n",
    "from keras.callbacks import EarlyStopping, ModelCheckpoint, ReduceLROnPlateau\n",
    "from keras.layers import Conv2D, MaxPool2D, Dense, Flatten, GlobalAveragePooling2D, Dropout"
   ]
  },
  {
   "cell_type": "markdown",
   "metadata": {},
   "source": [
    "## Step 1: Dataset Setup, etc."
   ]
  },
  {
   "cell_type": "code",
   "execution_count": 3,
   "metadata": {},
   "outputs": [],
   "source": [
    "random.seed(69)\n",
    "train_dir = './cancer_dataset/train/train/'\n",
    "test_dir = './cancer_dataset/test/test'"
   ]
  },
  {
   "cell_type": "code",
   "execution_count": 4,
   "metadata": {},
   "outputs": [],
   "source": [
    "train_data = pd.read_csv('./cancer_dataset/train.csv')\n",
    "train_data['train_file'] = train_data.Id.apply(lambda x: './cancer_dataset/train/train/{0}'.format(x))"
   ]
  },
  {
   "cell_type": "code",
   "execution_count": 5,
   "metadata": {},
   "outputs": [
    {
     "data": {
      "text/html": [
       "<div>\n",
       "<style scoped>\n",
       "    .dataframe tbody tr th:only-of-type {\n",
       "        vertical-align: middle;\n",
       "    }\n",
       "\n",
       "    .dataframe tbody tr th {\n",
       "        vertical-align: top;\n",
       "    }\n",
       "\n",
       "    .dataframe thead th {\n",
       "        text-align: right;\n",
       "    }\n",
       "</style>\n",
       "<table border=\"1\" class=\"dataframe\">\n",
       "  <thead>\n",
       "    <tr style=\"text-align: right;\">\n",
       "      <th></th>\n",
       "      <th>Id</th>\n",
       "      <th>Category</th>\n",
       "      <th>train_file</th>\n",
       "    </tr>\n",
       "  </thead>\n",
       "  <tbody>\n",
       "    <tr>\n",
       "      <th>0</th>\n",
       "      <td>0000.png</td>\n",
       "      <td>08_EMPTY</td>\n",
       "      <td>./cancer_dataset/train/train/0000.png</td>\n",
       "    </tr>\n",
       "  </tbody>\n",
       "</table>\n",
       "</div>"
      ],
      "text/plain": [
       "         Id  Category                             train_file\n",
       "0  0000.png  08_EMPTY  ./cancer_dataset/train/train/0000.png"
      ]
     },
     "execution_count": 5,
     "metadata": {},
     "output_type": "execute_result"
    }
   ],
   "source": [
    "train_data.head(1)"
   ]
  },
  {
   "cell_type": "code",
   "execution_count": 6,
   "metadata": {},
   "outputs": [],
   "source": [
    "msk = np.random.rand(len(train_data)) < 0.8\n",
    "train_df = train_data[msk]\n",
    "val_df = train_data[~msk]"
   ]
  },
  {
   "cell_type": "code",
   "execution_count": 7,
   "metadata": {},
   "outputs": [
    {
     "name": "stdout",
     "output_type": "stream",
     "text": [
      "3651 849\n"
     ]
    }
   ],
   "source": [
    "print(len(train_df.index), len(val_df.index))"
   ]
  },
  {
   "cell_type": "code",
   "execution_count": 8,
   "metadata": {},
   "outputs": [
    {
     "name": "stdout",
     "output_type": "stream",
     "text": [
      "Num Samples:  4500\n",
      "Image Shape:  (150, 150, 3)\n"
     ]
    }
   ],
   "source": [
    "print(\"Num Samples: \", len(train_data.index))\n",
    "print(\"Image Shape: \", imread(train_df.iloc[0].train_file).shape)"
   ]
  },
  {
   "cell_type": "code",
   "execution_count": 9,
   "metadata": {},
   "outputs": [],
   "source": [
    "datagen = ImageDataGenerator(rescale=1/255.,\n",
    "                             rotation_range=90,\n",
    "                             width_shift_range=0.1,\n",
    "                             height_shift_range=0.1,\n",
    "                             fill_mode='reflect',\n",
    "                             zoom_range=[0.8, 1.1],\n",
    "                             horizontal_flip=True,\n",
    "                             vertical_flip=True,\n",
    "                             brightness_range=[0.8, 1.1],\n",
    "                             channel_shift_range=12)\n",
    "val_datagen = ImageDataGenerator(rescale=1/255.)\n",
    "test_datagen = ImageDataGenerator(rescale=1/255.)"
   ]
  },
  {
   "cell_type": "code",
   "execution_count": 10,
   "metadata": {},
   "outputs": [
    {
     "name": "stdout",
     "output_type": "stream",
     "text": [
      "Found 3651 validated image filenames belonging to 8 classes.\n",
      "Found 849 validated image filenames belonging to 8 classes.\n"
     ]
    }
   ],
   "source": [
    "train_generator = datagen.flow_from_dataframe(dataframe=train_df, directory=train_dir,\n",
    "                                             x_col='Id',\n",
    "                                             y_col='Category',\n",
    "                                             target_size=(150, 150),\n",
    "                                             class_mode='categorical',\n",
    "                                             batch_size=32,\n",
    "                                             seed=7)\n",
    "\n",
    "validation_generator = val_datagen.flow_from_dataframe(dataframe=val_df, directory=train_dir,\n",
    "                                             x_col='Id',\n",
    "                                             y_col='Category',\n",
    "                                            shuffle=False,\n",
    "                                             target_size=(150, 150),\n",
    "                                             class_mode='categorical',\n",
    "                                             batch_size=100,\n",
    "                                             seed=7)"
   ]
  },
  {
   "cell_type": "markdown",
   "metadata": {},
   "source": [
    "## Step 2: Create MB Conv"
   ]
  },
  {
   "cell_type": "code",
   "execution_count": 11,
   "metadata": {},
   "outputs": [],
   "source": [
    "from keras import layers, models"
   ]
  },
  {
   "cell_type": "code",
   "execution_count": 14,
   "metadata": {},
   "outputs": [],
   "source": [
    "# The original MobileNetV2 network uses RELU6 as its activation function, but efficientnet uses swish.  As a result we will add the activation function as a param\n",
    "def new_mb_conv_block(input_layer, input_filters, output_filters, block_prefix, bn_axis=3, activation_fn=tf.nn.swish, depthwise_kernel_size=3, depthwise_strides=[1,1], expand_ratio=1, se_ratio=1):\n",
    "    # Expansion Phase\n",
    "    x = input_layer\n",
    "    if expand_ratio != 1:\n",
    "        x = layers.Conv2D(int(input_filters*expand_ratio), 1, padding='same', use_bias=False, name=f\"{block_prefix}__expand_conv\")(x)\n",
    "        x = layers.BatchNormalization(axis=bn_axis, name=f\"{block_prefix}__expand_bn\")(x)\n",
    "        x = layers.Activation(activation_fn, name=f\"{block_prefix}__expand_activation\")(x)\n",
    "    # Depthwise Convolution\n",
    "    x = layers.DepthwiseConv2D(depthwise_kernel_size, strides=depthwise_strides, padding='same', use_bias=False, name=f\"{block_prefix}__dw_conv\")(x)\n",
    "    x = layers.BatchNormalization(axis=bn_axis, name=f\"{block_prefix}__dw_bn\")(x)\n",
    "    x = layers.Activation(activation_fn, name=f\"{block_prefix}__dw_activation\")(x)\n",
    "    # Squeeze and Excitation\n",
    "    squeeze_filter_size = max(1, int(input_filters*se_ratio))\n",
    "    target_shape = (1, 1, int(input_filters*expand_ratio)) if bn_axis==3 else (int(input_filters*expand_ratio), 1, 1)\n",
    "    se = layers.GlobalAveragePooling2D(name=f\"{block_prefix}__se_squeeze\")(x)\n",
    "    se = layers.Reshape(target_shape, name=f\"{block_prefix}__se_reshape\")(se)\n",
    "    se = layers.Conv2D(squeeze_filter_size, 1, padding='same', activation=activation_fn, use_bias=True, name=f\"{block_prefix}__se_reduce\")(se)\n",
    "    se = layers.Conv2D(int(input_filters*expand_ratio), 1, padding='same', activation='sigmoid', use_bias=True, name=f\"{block_prefix}__se_expand\")(se) # We are getting weights for the features between 0 and 1, making sigmoid a good choice here\n",
    "    x = layers.multiply([x, se], name=f\"{block_prefix}__se_excite\")\n",
    "    # Projection Phase\n",
    "    x = layers.Conv2D(output_filters, 1, padding='same', use_bias=False, name=f\"{block_prefix}__project_conv\")(x)\n",
    "    x = layers.BatchNormalization(axis=bn_axis, name=f\"{block_prefix}__project_bn\")(x)\n",
    "    if input_filters == output_filters and all([x == 1 for x in depthwise_strides]):\n",
    "        x = layers.add([x, input_layer], name=f\"{block_prefix}__residual\")\n",
    "    return x"
   ]
  },
  {
   "cell_type": "code",
   "execution_count": 15,
   "metadata": {},
   "outputs": [
    {
     "name": "stdout",
     "output_type": "stream",
     "text": [
      "__________________________________________________________________________________________________\n",
      "Layer (type)                    Output Shape         Param #     Connected to                     \n",
      "==================================================================================================\n",
      "input_2 (InputLayer)            (None, 112, 112, 32) 0                                            \n",
      "__________________________________________________________________________________________________\n",
      "block_prefix__dw_conv (Depthwis (None, 112, 112, 32) 288         input_2[0][0]                    \n",
      "__________________________________________________________________________________________________\n",
      "block_prefix__dw_bn (BatchNorma (None, 112, 112, 32) 128         block_prefix__dw_conv[0][0]      \n",
      "__________________________________________________________________________________________________\n",
      "block_prefix__dw_activation (Ac (None, 112, 112, 32) 0           block_prefix__dw_bn[0][0]        \n",
      "__________________________________________________________________________________________________\n",
      "block_prefix__se_squeeze (Globa (None, 32)           0           block_prefix__dw_activation[0][0]\n",
      "__________________________________________________________________________________________________\n",
      "block_prefix__se_reshape (Resha (None, 1, 1, 32)     0           block_prefix__se_squeeze[0][0]   \n",
      "__________________________________________________________________________________________________\n",
      "block_prefix__se_reduce (Conv2D (None, 1, 1, 8)      264         block_prefix__se_reshape[0][0]   \n",
      "__________________________________________________________________________________________________\n",
      "block_prefix__se_expand (Conv2D (None, 1, 1, 32)     288         block_prefix__se_reduce[0][0]    \n",
      "__________________________________________________________________________________________________\n",
      "block_prefix__se_excite (Multip (None, 112, 112, 32) 0           block_prefix__dw_activation[0][0]\n",
      "                                                                 block_prefix__se_expand[0][0]    \n",
      "__________________________________________________________________________________________________\n",
      "block_prefix__project_conv (Con (None, 112, 112, 16) 512         block_prefix__se_excite[0][0]    \n",
      "__________________________________________________________________________________________________\n",
      "block_prefix__project_bn (Batch (None, 112, 112, 16) 64          block_prefix__project_conv[0][0] \n",
      "==================================================================================================\n",
      "Total params: 1,544\n",
      "Trainable params: 1,448\n",
      "Non-trainable params: 96\n",
      "__________________________________________________________________________________________________\n"
     ]
    }
   ],
   "source": [
    "mb_input = layers.Input((112, 112, 32))\n",
    "mb_out = new_mb_conv_block(mb_input, 32, 16, \"block_prefix\", se_ratio=0.25)\n",
    "models.Model(mb_input, mb_out).summary()"
   ]
  },
  {
   "cell_type": "markdown",
   "metadata": {},
   "source": [
    "## Step 3: Create EfficientNet"
   ]
  },
  {
   "cell_type": "code",
   "execution_count": 16,
   "metadata": {},
   "outputs": [],
   "source": [
    "# To match the pretrained weights, we need to round num filters to nearest multiple of 8\n",
    "def round_num_filters(base_filters, width_coeff, rounding_multiple=8):\n",
    "    # To round to the nearest multiple of a number: https://stackoverflow.com/questions/29557459/round-to-nearest-multiple-of-a-number\n",
    "    filters = base_filters * width_coeff\n",
    "    if not rounding_multiple:\n",
    "        return filters\n",
    "    rounded_filters = (int(filters + 4) // 8) * 8\n",
    "    # Minimum num filters is 8 (makes sense but I copied this part)\n",
    "    rounded_filters = max(8, rounded_filters)\n",
    "    # Do not want to round down by more than 10% (makes sense but I copied this part)\n",
    "    if new_filters < 0.9*filters:\n",
    "        new_filters += 8\n",
    "    return int(new_filters)"
   ]
  },
  {
   "cell_type": "code",
   "execution_count": 17,
   "metadata": {},
   "outputs": [],
   "source": [
    "def round_num_repeats(base_repeats, depth_coefficient):\n",
    "    return int(math.ceil(base_repeats * depth_coefficient))"
   ]
  },
  {
   "cell_type": "code",
   "execution_count": 18,
   "metadata": {},
   "outputs": [],
   "source": [
    "# Found on the internet - it looks like Variance Scaling \n",
    "# Read: https://towardsdatascience.com/hyper-parameters-in-action-part-ii-weight-initializers-35aee1a28404\n",
    "CONV_KERNEL_INIT = {\n",
    "    'class_name': 'VarianceScaling',\n",
    "    'config': {\n",
    "        'scale': 2.0,\n",
    "        'mode': 'fan_out',\n",
    "        # EfficientNet actually uses an untruncated normal distribution for\n",
    "        # initializing conv layers, but keras.initializers.VarianceScaling use\n",
    "        # a truncated distribution.\n",
    "        # We decided against a custom initializer for better serializability.\n",
    "        'distribution': 'normal'\n",
    "    }\n",
    "}"
   ]
  },
  {
   "cell_type": "code",
   "execution_count": 39,
   "metadata": {},
   "outputs": [],
   "source": [
    "import collections\n",
    "def flatten(x):\n",
    "    if isinstance(x, collections.Iterable):\n",
    "        return [a for i in x for a in flatten(i)]\n",
    "    else:\n",
    "        return [x]"
   ]
  },
  {
   "cell_type": "code",
   "execution_count": 45,
   "metadata": {},
   "outputs": [],
   "source": [
    "def get_layer_weights(layer, input_shape=[None,224,224,3]):\n",
    "    import itertools\n",
    "    import matplotlib.pyplot as plt\n",
    "    with tf.Session() as sess:\n",
    "        init = tf.global_variables_initializer()\n",
    "# sess = tf.Session()\n",
    "        sess.run(init)\n",
    "        input_x = tf.placeholder(tf.float32, shape=input_shape, name='input_x')  \n",
    "        y = layer(input_x)\n",
    "        weights = flatten(x.get_weights()[0].tolist())\n",
    "        plt.hist(weights)"
   ]
  },
  {
   "cell_type": "code",
   "execution_count": 52,
   "metadata": {},
   "outputs": [
    {
     "data": {
      "image/png": "[encoded data removed]",
      "text/plain": [
       "<Figure size 432x288 with 1 Axes>"
      ]
     },
     "metadata": {
      "needs_background": "light"
     },
     "output_type": "display_data"
    }
   ],
   "source": [
    "x = layers.Conv2D(32, kernel_size=3, strides=(2, 2), kernel_initializer=CONV_KERNEL_INIT)\n",
    "get_layer_weights(x)"
   ]
  },
  {
   "cell_type": "code",
   "execution_count": 53,
   "metadata": {},
   "outputs": [
    {
     "data": {
      "image/png": "[encoded data removed]",
      "text/plain": [
       "<Figure size 432x288 with 1 Axes>"
      ]
     },
     "metadata": {
      "needs_background": "light"
     },
     "output_type": "display_data"
    }
   ],
   "source": [
    "# He Normal is different\n",
    "x = layers.Conv2D(32, kernel_size=3, strides=(2, 2), kernel_initializer=keras.initializers.he_normal())\n",
    "get_layer_weights(x)"
   ]
  },
  {
   "cell_type": "code",
   "execution_count": null,
   "metadata": {},
   "outputs": [],
   "source": [
    "def efficientnet(input_layer, phi, model_name, image_data_format=\"channels_last\"):\n",
    "    bn_axis = 3 if image_format==\"channels_last\" else 1\n",
    "    # EfficientNet B0 Values (alpha = depth (num layers), beta = width (num filters), gamma = resolution)\n",
    "    alpha, beta, gamma = 1.2, 1.1, 1.15\n",
    "    detpth_coeff, width_coeff, res_coeff = alpha**phi, beta**phi, gamma**phi\n",
    "    # Create Stem\n",
    "    x = layers.Conv2D(round_num_filters(32, width_coeff), kernel_size=3, strides=(2, 2), padding=\"same\", use_bias=False, kernel_initializer=CONV_KERNEL_INIT, name=\"stem_conv\")(input_layer)\n",
    "    x = layers.BatchNormalization()"
   ]
  },
  {
   "cell_type": "code",
   "execution_count": null,
   "metadata": {},
   "outputs": [],
   "source": [
    "    return EfficientNet(1.0, 1.0, 224, 0.2,\n",
    "                        model_name='efficientnet-b0',\n",
    "                        include_top=include_top, weights=weights,\n",
    "                        input_tensor=input_tensor, input_shape=input_shape,\n",
    "                        pooling=pooling, classes=classes,\n",
    "                        **kwargs)"
   ]
  }
 ],
 "metadata": {
  "kernelspec": {
   "display_name": "Python 3",
   "language": "python",
   "name": "python3"
  },
  "language_info": {
   "codemirror_mode": {
    "name": "ipython",
    "version": 3
   },
   "file_extension": ".py",
   "mimetype": "text/x-python",
   "name": "python",
   "nbconvert_exporter": "python",
   "pygments_lexer": "ipython3",
   "version": "3.6.9"
  }
 },
 "nbformat": 4,
 "nbformat_minor": 4
}
