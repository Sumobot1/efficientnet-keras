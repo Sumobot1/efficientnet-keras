{
 "cells": [
  {
   "cell_type": "markdown",
   "metadata": {},
   "source": [
    "# Goal - Make EfficientNet"
   ]
  },
  {
   "cell_type": "code",
   "execution_count": 1,
   "metadata": {
    "tags": []
   },
   "outputs": [
    {
     "output_type": "stream",
     "name": "stderr",
     "text": "Using TensorFlow backend.\n"
    }
   ],
   "source": [
    "import os\n",
    "import math\n",
    "import keras\n",
    "import random\n",
    "import string\n",
    "import collections\n",
    "import numpy as np\n",
    "import pandas as pd\n",
    "from random import shuffle\n",
    "from skimage.io import imread\n",
    "from sklearn.model_selection import train_test_split\n",
    "from sklearn.metrics import confusion_matrix\n",
    "from keras import backend\n",
    "from keras.models import load_model\n",
    "from keras.models import Sequential, Model\n",
    "from keras.preprocessing.image import ImageDataGenerator\n",
    "from keras.callbacks import EarlyStopping, ModelCheckpoint, ReduceLROnPlateau\n",
    "from keras.layers import Conv2D, MaxPool2D, Dense, Flatten, GlobalAveragePooling2D, Dropout\n",
    "import tensorflow as tf"
   ]
  },
  {
   "cell_type": "code",
   "execution_count": 2,
   "metadata": {},
   "outputs": [],
   "source": [
    "from keras import layers\n",
    "from keras.utils.generic_utils import get_custom_objects\n",
    "class Swish(layers.Activation):\n",
    "    \n",
    "    def __init__(self, activation, **kwargs):\n",
    "        super(Swish, self).__init__(activation, **kwargs)\n",
    "        self.__name__ = 'swish'\n",
    "\n",
    "def swish(x):\n",
    "    return (backend.sigmoid(x) * x)\n",
    "\n",
    "get_custom_objects().update({'swish': Swish(swish)})"
   ]
  },
  {
   "cell_type": "markdown",
   "metadata": {},
   "source": [
    "## Step 1: Dataset Setup, etc."
   ]
  },
  {
   "cell_type": "code",
   "execution_count": 3,
   "metadata": {},
   "outputs": [],
   "source": [
    "random.seed(42)\n",
    "train_dir, test_dir = './cancer_dataset/train/train/', './cancer_dataset/test/test'"
   ]
  },
  {
   "cell_type": "code",
   "execution_count": 4,
   "metadata": {},
   "outputs": [],
   "source": [
    "train_data = pd.read_csv('./cancer_dataset/train.csv')\n",
    "train_data['train_file'] = train_data.Id.apply(lambda x: './cancer_dataset/train/train/{0}'.format(x))"
   ]
  },
  {
   "cell_type": "code",
   "execution_count": 5,
   "metadata": {},
   "outputs": [
    {
     "output_type": "execute_result",
     "data": {
      "text/plain": "         Id  Category                             train_file\n0  0000.png  08_EMPTY  ./cancer_dataset/train/train/0000.png",
      "text/html": "<div>\n<style scoped>\n    .dataframe tbody tr th:only-of-type {\n        vertical-align: middle;\n    }\n\n    .dataframe tbody tr th {\n        vertical-align: top;\n    }\n\n    .dataframe thead th {\n        text-align: right;\n    }\n</style>\n<table border=\"1\" class=\"dataframe\">\n  <thead>\n    <tr style=\"text-align: right;\">\n      <th></th>\n      <th>Id</th>\n      <th>Category</th>\n      <th>train_file</th>\n    </tr>\n  </thead>\n  <tbody>\n    <tr>\n      <th>0</th>\n      <td>0000.png</td>\n      <td>08_EMPTY</td>\n      <td>./cancer_dataset/train/train/0000.png</td>\n    </tr>\n  </tbody>\n</table>\n</div>"
     },
     "metadata": {},
     "execution_count": 5
    }
   ],
   "source": [
    "train_data.head(1)"
   ]
  },
  {
   "cell_type": "code",
   "execution_count": 6,
   "metadata": {},
   "outputs": [],
   "source": [
    "msk = np.random.rand(len(train_data)) < 0.8\n",
    "train_df = train_data[msk]\n",
    "val_df = train_data[~msk]"
   ]
  },
  {
   "cell_type": "code",
   "execution_count": 7,
   "metadata": {
    "tags": []
   },
   "outputs": [
    {
     "output_type": "stream",
     "name": "stdout",
     "text": "3583 917\n"
    }
   ],
   "source": [
    "print(len(train_df.index), len(val_df.index))"
   ]
  },
  {
   "cell_type": "code",
   "execution_count": 8,
   "metadata": {
    "tags": []
   },
   "outputs": [
    {
     "output_type": "stream",
     "name": "stdout",
     "text": "Num Samples:  4500\nImage Shape:  (150, 150, 3)\n"
    }
   ],
   "source": [
    "print(\"Num Samples: \", len(train_data.index))\n",
    "print(\"Image Shape: \", imread(train_df.iloc[0].train_file).shape)"
   ]
  },
  {
   "cell_type": "code",
   "execution_count": 9,
   "metadata": {},
   "outputs": [],
   "source": [
    "datagen = ImageDataGenerator(rescale=1/255.,\n",
    "                             rotation_range=90,\n",
    "                             width_shift_range=0.1,\n",
    "                             height_shift_range=0.1,\n",
    "                             fill_mode='reflect',\n",
    "                             zoom_range=[0.8, 1.1],\n",
    "                             horizontal_flip=True,\n",
    "                             vertical_flip=True,\n",
    "                             brightness_range=[0.8, 1.1],\n",
    "                             channel_shift_range=12)\n",
    "val_datagen = ImageDataGenerator(rescale=1/255.)\n",
    "test_datagen = ImageDataGenerator(rescale=1/255.)"
   ]
  },
  {
   "cell_type": "code",
   "execution_count": 10,
   "metadata": {
    "tags": []
   },
   "outputs": [
    {
     "output_type": "stream",
     "name": "stdout",
     "text": "Found 3583 validated image filenames belonging to 8 classes.\nFound 917 validated image filenames belonging to 8 classes.\n"
    }
   ],
   "source": [
    "train_generator = datagen.flow_from_dataframe(dataframe=train_df, directory=train_dir,\n",
    "                                             x_col='Id',\n",
    "                                             y_col='Category',\n",
    "                                             target_size=(150, 150),\n",
    "                                             class_mode='categorical',\n",
    "                                             batch_size=32,\n",
    "                                             seed=7)\n",
    "\n",
    "validation_generator = val_datagen.flow_from_dataframe(dataframe=val_df, directory=train_dir,\n",
    "                                             x_col='Id',\n",
    "                                             y_col='Category',\n",
    "                                            shuffle=False,\n",
    "                                             target_size=(150, 150),\n",
    "                                             class_mode='categorical',\n",
    "                                             batch_size=100,\n",
    "                                             seed=7)"
   ]
  },
  {
   "cell_type": "markdown",
   "metadata": {},
   "source": [
    "## Step 2: Create MB Conv"
   ]
  },
  {
   "cell_type": "code",
   "execution_count": 11,
   "metadata": {},
   "outputs": [],
   "source": [
    "from keras import layers, models"
   ]
  },
  {
   "cell_type": "code",
   "execution_count": 31,
   "metadata": {},
   "outputs": [],
   "source": [
    "# The original MobileNetV2 network uses RELU6 as its activation function, but efficientnet uses swish.  As a result we will add the activation function as a param\n",
    "def new_mb_conv_block(input_layer, input_filters, output_filters, block_prefix, bn_axis=3, activation_fn=\"swish\", depthwise_kernel_size=3, depthwise_strides=[1,1], expand_ratio=1, se_ratio=1, drop_rate=None):\n",
    "    # Expansion Phase\n",
    "    x = input_layer\n",
    "    if expand_ratio != 1:\n",
    "        x = layers.Conv2D(int(input_filters*expand_ratio), 1, padding='same', use_bias=False, name=f\"{block_prefix}expand_conv\")(x)\n",
    "        x = layers.BatchNormalization(axis=bn_axis, name=f\"{block_prefix}expand_bn\")(x)\n",
    "        x = layers.Activation(activation_fn, name=f\"{block_prefix}expand_activation\")(x)\n",
    "    # Depthwise Convolution\n",
    "    x = layers.DepthwiseConv2D(depthwise_kernel_size, strides=depthwise_strides, padding='same', use_bias=False, name=f\"{block_prefix}dwconv\")(x)\n",
    "    x = layers.BatchNormalization(axis=bn_axis, name=f\"{block_prefix}bn\")(x)\n",
    "    x = layers.Activation(activation_fn, name=f\"{block_prefix}activation\")(x)\n",
    "    # Squeeze and Excitation\n",
    "    squeeze_filter_size = max(1, int(input_filters*se_ratio))\n",
    "    target_shape = (1, 1, int(input_filters*expand_ratio)) if bn_axis==3 else (int(input_filters*expand_ratio), 1, 1)\n",
    "    se = layers.GlobalAveragePooling2D(name=f\"{block_prefix}se_squeeze\")(x)\n",
    "    se = layers.Reshape(target_shape, name=f\"{block_prefix}se_reshape\")(se)\n",
    "    se = layers.Conv2D(squeeze_filter_size, 1, padding='same', activation=activation_fn, use_bias=True, name=f\"{block_prefix}se_reduce\")(se)\n",
    "    se = layers.Conv2D(int(input_filters*expand_ratio), 1, padding='same', activation='sigmoid', use_bias=True, name=f\"{block_prefix}se_expand\")(se) # We are getting weights for the features between 0 and 1, making sigmoid a good choice here\n",
    "    x = layers.multiply([x, se], name=f\"{block_prefix}se_excite\")\n",
    "    # Projection Phase\n",
    "    x = layers.Conv2D(output_filters, 1, padding='same', use_bias=False, name=f\"{block_prefix}project_conv\")(x)\n",
    "    x = layers.BatchNormalization(axis=bn_axis, name=f\"{block_prefix}project_bn\")(x)\n",
    "    print(input_filters, output_filters, depthwise_strides)\n",
    "    if input_filters == output_filters and all([x == 1 for x in depthwise_strides]):\n",
    "        if drop_rate and drop_rate > 0:\n",
    "            print(\"here\", drop_rate)\n",
    "            x = layers.Dropout(drop_rate, name=f\"{block_prefix}drop\")(x)\n",
    "        x = layers.add([x, input_layer], name=f\"{block_prefix}add\")\n",
    "    return x"
   ]
  },
  {
   "cell_type": "code",
   "execution_count": 13,
   "metadata": {},
   "outputs": [],
   "source": [
    "# mb_input = layers.Input((112, 112, 32))\n",
    "# mb_out = new_mb_conv_block(mb_input, 32, 16, \"block_prefix\", se_ratio=0.25)\n",
    "# models.Model(mb_input, mb_out).summary()"
   ]
  },
  {
   "cell_type": "markdown",
   "metadata": {},
   "source": [
    "## Step 3: Create EfficientNet"
   ]
  },
  {
   "cell_type": "code",
   "execution_count": 14,
   "metadata": {},
   "outputs": [],
   "source": [
    "BlockArgs = collections.namedtuple('BlockArgs', [\n",
    "    'depthwise_kernel_size', 'num_repeat', 'input_filters', 'output_filters',\n",
    "    'expand_ratio', 'id_skip', 'strides', 'se_ratio'\n",
    "])\n",
    "BASELINE_NETWORK_PARAMS = [\n",
    "    BlockArgs(depthwise_kernel_size=3, num_repeat=1, input_filters=32, output_filters=16,\n",
    "              expand_ratio=1, id_skip=True, strides=[1, 1], se_ratio=0.25),\n",
    "    BlockArgs(depthwise_kernel_size=3, num_repeat=2, input_filters=16, output_filters=24,\n",
    "              expand_ratio=6, id_skip=True, strides=[2, 2], se_ratio=0.25),\n",
    "    BlockArgs(depthwise_kernel_size=5, num_repeat=2, input_filters=24, output_filters=40,\n",
    "              expand_ratio=6, id_skip=True, strides=[2, 2], se_ratio=0.25),\n",
    "    BlockArgs(depthwise_kernel_size=3, num_repeat=3, input_filters=40, output_filters=80,\n",
    "              expand_ratio=6, id_skip=True, strides=[2, 2], se_ratio=0.25),\n",
    "    BlockArgs(depthwise_kernel_size=5, num_repeat=3, input_filters=80, output_filters=112,\n",
    "              expand_ratio=6, id_skip=True, strides=[1, 1], se_ratio=0.25),\n",
    "    BlockArgs(depthwise_kernel_size=5, num_repeat=4, input_filters=112, output_filters=192,\n",
    "              expand_ratio=6, id_skip=True, strides=[2, 2], se_ratio=0.25),\n",
    "    BlockArgs(depthwise_kernel_size=3, num_repeat=1, input_filters=192, output_filters=320,\n",
    "              expand_ratio=6, id_skip=True, strides=[1, 1], se_ratio=0.25)\n",
    "]"
   ]
  },
  {
   "cell_type": "code",
   "execution_count": 15,
   "metadata": {},
   "outputs": [],
   "source": [
    "# To match the pretrained weights, we need to round num filters to nearest multiple of 8\n",
    "def round_num_filters(base_filters, width_coeff, rounding_multiple=8):\n",
    "    # To round to the nearest multiple of a number: https://stackoverflow.com/questions/29557459/round-to-nearest-multiple-of-a-number\n",
    "    filters = base_filters * width_coeff\n",
    "    if not rounding_multiple:\n",
    "        return filters\n",
    "    rounded_filters = (int(filters + 4) // 8) * 8\n",
    "    # Minimum num filters is 8 (makes sense but I copied this part)\n",
    "    rounded_filters = max(8, rounded_filters)\n",
    "    # Do not want to round down by more than 10% (makes sense but I copied this part)\n",
    "    if rounded_filters < 0.9*filters:\n",
    "        rounded_filters += 8\n",
    "    return int(rounded_filters)"
   ]
  },
  {
   "cell_type": "code",
   "execution_count": 16,
   "metadata": {},
   "outputs": [],
   "source": [
    "def round_num_repeats(base_repeats, depth_coefficient):\n",
    "    return int(math.ceil(base_repeats * depth_coefficient))"
   ]
  },
  {
   "cell_type": "code",
   "execution_count": 17,
   "metadata": {},
   "outputs": [],
   "source": [
    "def scaled_dropout(drop_connect_rate, block_num, total_blocks):\n",
    "    return drop_connect_rate * float(block_num) / total_blocks"
   ]
  },
  {
   "cell_type": "code",
   "execution_count": 18,
   "metadata": {},
   "outputs": [],
   "source": [
    "# Found on the internet - it looks like Variance Scaling \n",
    "# Read: https://towardsdatascience.com/hyper-parameters-in-action-part-ii-weight-initializers-35aee1a28404\n",
    "CONV_KERNEL_INIT = {\n",
    "    'class_name': 'VarianceScaling',\n",
    "    'config': {\n",
    "        'scale': 2.0,\n",
    "        'mode': 'fan_out',\n",
    "        # EfficientNet actually uses an untruncated normal distribution for\n",
    "        # initializing conv layers, but keras.initializers.VarianceScaling use\n",
    "        # a truncated distribution.\n",
    "        # We decided against a custom initializer for better serializability.\n",
    "        'distribution': 'normal'\n",
    "    }\n",
    "}"
   ]
  },
  {
   "cell_type": "code",
   "execution_count": 19,
   "metadata": {},
   "outputs": [],
   "source": [
    "\n",
    "# Given some model, freeze all layers except the ones between...\n",
    "def freeze_model_layers(given_model, trainable_start=None, trainable_end=None):\n",
    "    trainable_end = len(given_model.layers) if trainable_start and not trainable_end else trainable_end\n",
    "    trainable_start = 0 if trainable_end and not trainable_start else trainable_start\n",
    "    for layer in given_model.layers:\n",
    "       layer.trainable = False\n",
    "    if trainable_start and trainable_end:\n",
    "        for layer in given_model.layers[trainable_start:trainable_end]:\n",
    "            layer.trainable = True\n",
    "    print(\"Froze all layers except {} to {}.  Model must be compiled after this!\".format(trainable_start, trainable_end))"
   ]
  },
  {
   "cell_type": "code",
   "execution_count": 20,
   "metadata": {},
   "outputs": [],
   "source": [
    "import collections\n",
    "def flatten(x):\n",
    "    if isinstance(x, collections.Iterable):\n",
    "        return [a for i in x for a in flatten(i)]\n",
    "    else:\n",
    "        return [x]"
   ]
  },
  {
   "cell_type": "code",
   "execution_count": 21,
   "metadata": {},
   "outputs": [],
   "source": [
    "def get_layer_weights(layer, input_shape=[None,224,224,3]):\n",
    "    import itertools\n",
    "    import matplotlib.pyplot as plt\n",
    "    with tf.Session() as sess:\n",
    "        init = tf.global_variables_initializer()\n",
    "# sess = tf.Session()\n",
    "        sess.run(init)\n",
    "        input_x = tf.placeholder(tf.float32, shape=input_shape, name='input_x')  \n",
    "        y = layer(input_x)\n",
    "        weights = flatten(x.get_weights()[0].tolist())\n",
    "        plt.hist(weights)"
   ]
  },
  {
   "cell_type": "code",
   "execution_count": 22,
   "metadata": {},
   "outputs": [
    {
     "output_type": "display_data",
     "data": {
      "text/plain": "<Figure size 432x288 with 1 Axes>",
      "image/svg+xml": "<?xml version=\"1.0\" encoding=\"utf-8\" standalone=\"no\"?>\n<!DOCTYPE svg PUBLIC \"-//W3C//DTD SVG 1.1//EN\"\n  \"http://www.w3.org/Graphics/SVG/1.1/DTD/svg11.dtd\">\n<!-- Created with matplotlib (https://matplotlib.org/) -->\n<svg height=\"251.437568pt\" version=\"1.1\" viewBox=\"0 0 380.163396 251.437568\" width=\"380.163396pt\" xmlns=\"http://www.w3.org/2000/svg\" xmlns:xlink=\"http://www.w3.org/1999/xlink\">\n <defs>\n  <style type=\"text/css\">\n*{stroke-linecap:butt;stroke-linejoin:round;}\n  </style>\n </defs>\n <g id=\"figure_1\">\n  <g id=\"patch_1\">\n   <path d=\"M 0 251.437568 \nL 380.163396 251.437568 \nL 380.163396 0 \nL 0 0 \nz\n\" style=\"fill:none;\"/>\n  </g>\n  <g id=\"axes_1\">\n   <g id=\"patch_2\">\n    <path d=\"M 33.2875 227.559443 \nL 368.0875 227.559443 \nL 368.0875 10.119443 \nL 33.2875 10.119443 \nz\n\" style=\"fill:#ffffff;\"/>\n   </g>\n   <g id=\"patch_3\">\n    <path clip-path=\"url(#p66f1638c63)\" d=\"M 48.505682 227.559443 \nL 78.942045 227.559443 \nL 78.942045 186.954401 \nL 48.505682 186.954401 \nz\n\" style=\"fill:#1f77b4;\"/>\n   </g>\n   <g id=\"patch_4\">\n    <path clip-path=\"url(#p66f1638c63)\" d=\"M 78.942045 227.559443 \nL 109.378409 227.559443 \nL 109.378409 142.288855 \nL 78.942045 142.288855 \nz\n\" style=\"fill:#1f77b4;\"/>\n   </g>\n   <g id=\"patch_5\">\n    <path clip-path=\"url(#p66f1638c63)\" d=\"M 109.378409 227.559443 \nL 139.814773 227.559443 \nL 139.814773 115.218827 \nL 109.378409 115.218827 \nz\n\" style=\"fill:#1f77b4;\"/>\n   </g>\n   <g id=\"patch_6\">\n    <path clip-path=\"url(#p66f1638c63)\" d=\"M 139.814773 227.559443 \nL 170.251136 227.559443 \nL 170.251136 82.734793 \nL 139.814773 82.734793 \nz\n\" style=\"fill:#1f77b4;\"/>\n   </g>\n   <g id=\"patch_7\">\n    <path clip-path=\"url(#p66f1638c63)\" d=\"M 170.251136 227.559443 \nL 200.6875 227.559443 \nL 200.6875 20.473729 \nL 170.251136 20.473729 \nz\n\" style=\"fill:#1f77b4;\"/>\n   </g>\n   <g id=\"patch_8\">\n    <path clip-path=\"url(#p66f1638c63)\" d=\"M 200.6875 227.559443 \nL 231.123864 227.559443 \nL 231.123864 44.836754 \nL 200.6875 44.836754 \nz\n\" style=\"fill:#1f77b4;\"/>\n   </g>\n   <g id=\"patch_9\">\n    <path clip-path=\"url(#p66f1638c63)\" d=\"M 231.123864 227.559443 \nL 261.560227 227.559443 \nL 261.560227 73.260283 \nL 231.123864 73.260283 \nz\n\" style=\"fill:#1f77b4;\"/>\n   </g>\n   <g id=\"patch_10\">\n    <path clip-path=\"url(#p66f1638c63)\" d=\"M 261.560227 227.559443 \nL 291.996591 227.559443 \nL 291.996591 86.795297 \nL 261.560227 86.795297 \nz\n\" style=\"fill:#1f77b4;\"/>\n   </g>\n   <g id=\"patch_11\">\n    <path clip-path=\"url(#p66f1638c63)\" d=\"M 291.996591 227.559443 \nL 322.432955 227.559443 \nL 322.432955 165.298378 \nL 291.996591 165.298378 \nz\n\" style=\"fill:#1f77b4;\"/>\n   </g>\n   <g id=\"patch_12\">\n    <path clip-path=\"url(#p66f1638c63)\" d=\"M 322.432955 227.559443 \nL 352.869318 227.559443 \nL 352.869318 188.307902 \nL 322.432955 188.307902 \nz\n\" style=\"fill:#1f77b4;\"/>\n   </g>\n   <g id=\"matplotlib.axis_1\">\n    <g id=\"xtick_1\">\n     <g id=\"line2d_1\">\n      <defs>\n       <path d=\"M 0 0 \nL 0 3.5 \n\" id=\"m65d9e170a6\" style=\"stroke:#000000;stroke-width:0.8;\"/>\n      </defs>\n      <g>\n       <use style=\"stroke:#000000;stroke-width:0.8;\" x=\"38.492539\" xlink:href=\"#m65d9e170a6\" y=\"227.559443\"/>\n      </g>\n     </g>\n     <g id=\"text_1\">\n      <!-- −0.20 -->\n      <defs>\n       <path d=\"M 10.59375 35.5 \nL 73.1875 35.5 \nL 73.1875 27.203125 \nL 10.59375 27.203125 \nz\n\" id=\"DejaVuSans-8722\"/>\n       <path d=\"M 31.78125 66.40625 \nQ 24.171875 66.40625 20.328125 58.90625 \nQ 16.5 51.421875 16.5 36.375 \nQ 16.5 21.390625 20.328125 13.890625 \nQ 24.171875 6.390625 31.78125 6.390625 \nQ 39.453125 6.390625 43.28125 13.890625 \nQ 47.125 21.390625 47.125 36.375 \nQ 47.125 51.421875 43.28125 58.90625 \nQ 39.453125 66.40625 31.78125 66.40625 \nz\nM 31.78125 74.21875 \nQ 44.046875 74.21875 50.515625 64.515625 \nQ 56.984375 54.828125 56.984375 36.375 \nQ 56.984375 17.96875 50.515625 8.265625 \nQ 44.046875 -1.421875 31.78125 -1.421875 \nQ 19.53125 -1.421875 13.0625 8.265625 \nQ 6.59375 17.96875 6.59375 36.375 \nQ 6.59375 54.828125 13.0625 64.515625 \nQ 19.53125 74.21875 31.78125 74.21875 \nz\n\" id=\"DejaVuSans-48\"/>\n       <path d=\"M 10.6875 12.40625 \nL 21 12.40625 \nL 21 0 \nL 10.6875 0 \nz\n\" id=\"DejaVuSans-46\"/>\n       <path d=\"M 19.1875 8.296875 \nL 53.609375 8.296875 \nL 53.609375 0 \nL 7.328125 0 \nL 7.328125 8.296875 \nQ 12.9375 14.109375 22.625 23.890625 \nQ 32.328125 33.6875 34.8125 36.53125 \nQ 39.546875 41.84375 41.421875 45.53125 \nQ 43.3125 49.21875 43.3125 52.78125 \nQ 43.3125 58.59375 39.234375 62.25 \nQ 35.15625 65.921875 28.609375 65.921875 \nQ 23.96875 65.921875 18.8125 64.3125 \nQ 13.671875 62.703125 7.8125 59.421875 \nL 7.8125 69.390625 \nQ 13.765625 71.78125 18.9375 73 \nQ 24.125 74.21875 28.421875 74.21875 \nQ 39.75 74.21875 46.484375 68.546875 \nQ 53.21875 62.890625 53.21875 53.421875 \nQ 53.21875 48.921875 51.53125 44.890625 \nQ 49.859375 40.875 45.40625 35.40625 \nQ 44.1875 33.984375 37.640625 27.21875 \nQ 31.109375 20.453125 19.1875 8.296875 \nz\n\" id=\"DejaVuSans-50\"/>\n      </defs>\n      <g transform=\"translate(23.169882 242.15788)scale(0.1 -0.1)\">\n       <use xlink:href=\"#DejaVuSans-8722\"/>\n       <use x=\"83.789062\" xlink:href=\"#DejaVuSans-48\"/>\n       <use x=\"147.412109\" xlink:href=\"#DejaVuSans-46\"/>\n       <use x=\"179.199219\" xlink:href=\"#DejaVuSans-50\"/>\n       <use x=\"242.822266\" xlink:href=\"#DejaVuSans-48\"/>\n      </g>\n     </g>\n    </g>\n    <g id=\"xtick_2\">\n     <g id=\"line2d_2\">\n      <g>\n       <use style=\"stroke:#000000;stroke-width:0.8;\" x=\"78.909794\" xlink:href=\"#m65d9e170a6\" y=\"227.559443\"/>\n      </g>\n     </g>\n     <g id=\"text_2\">\n      <!-- −0.15 -->\n      <defs>\n       <path d=\"M 12.40625 8.296875 \nL 28.515625 8.296875 \nL 28.515625 63.921875 \nL 10.984375 60.40625 \nL 10.984375 69.390625 \nL 28.421875 72.90625 \nL 38.28125 72.90625 \nL 38.28125 8.296875 \nL 54.390625 8.296875 \nL 54.390625 0 \nL 12.40625 0 \nz\n\" id=\"DejaVuSans-49\"/>\n       <path d=\"M 10.796875 72.90625 \nL 49.515625 72.90625 \nL 49.515625 64.59375 \nL 19.828125 64.59375 \nL 19.828125 46.734375 \nQ 21.96875 47.46875 24.109375 47.828125 \nQ 26.265625 48.1875 28.421875 48.1875 \nQ 40.625 48.1875 47.75 41.5 \nQ 54.890625 34.8125 54.890625 23.390625 \nQ 54.890625 11.625 47.5625 5.09375 \nQ 40.234375 -1.421875 26.90625 -1.421875 \nQ 22.3125 -1.421875 17.546875 -0.640625 \nQ 12.796875 0.140625 7.71875 1.703125 \nL 7.71875 11.625 \nQ 12.109375 9.234375 16.796875 8.0625 \nQ 21.484375 6.890625 26.703125 6.890625 \nQ 35.15625 6.890625 40.078125 11.328125 \nQ 45.015625 15.765625 45.015625 23.390625 \nQ 45.015625 31 40.078125 35.4375 \nQ 35.15625 39.890625 26.703125 39.890625 \nQ 22.75 39.890625 18.8125 39.015625 \nQ 14.890625 38.140625 10.796875 36.28125 \nz\n\" id=\"DejaVuSans-53\"/>\n      </defs>\n      <g transform=\"translate(63.587138 242.15788)scale(0.1 -0.1)\">\n       <use xlink:href=\"#DejaVuSans-8722\"/>\n       <use x=\"83.789062\" xlink:href=\"#DejaVuSans-48\"/>\n       <use x=\"147.412109\" xlink:href=\"#DejaVuSans-46\"/>\n       <use x=\"179.199219\" xlink:href=\"#DejaVuSans-49\"/>\n       <use x=\"242.822266\" xlink:href=\"#DejaVuSans-53\"/>\n      </g>\n     </g>\n    </g>\n    <g id=\"xtick_3\">\n     <g id=\"line2d_3\">\n      <g>\n       <use style=\"stroke:#000000;stroke-width:0.8;\" x=\"119.32705\" xlink:href=\"#m65d9e170a6\" y=\"227.559443\"/>\n      </g>\n     </g>\n     <g id=\"text_3\">\n      <!-- −0.10 -->\n      <g transform=\"translate(104.004394 242.15788)scale(0.1 -0.1)\">\n       <use xlink:href=\"#DejaVuSans-8722\"/>\n       <use x=\"83.789062\" xlink:href=\"#DejaVuSans-48\"/>\n       <use x=\"147.412109\" xlink:href=\"#DejaVuSans-46\"/>\n       <use x=\"179.199219\" xlink:href=\"#DejaVuSans-49\"/>\n       <use x=\"242.822266\" xlink:href=\"#DejaVuSans-48\"/>\n      </g>\n     </g>\n    </g>\n    <g id=\"xtick_4\">\n     <g id=\"line2d_4\">\n      <g>\n       <use style=\"stroke:#000000;stroke-width:0.8;\" x=\"159.744305\" xlink:href=\"#m65d9e170a6\" y=\"227.559443\"/>\n      </g>\n     </g>\n     <g id=\"text_4\">\n      <!-- −0.05 -->\n      <g transform=\"translate(144.421649 242.15788)scale(0.1 -0.1)\">\n       <use xlink:href=\"#DejaVuSans-8722\"/>\n       <use x=\"83.789062\" xlink:href=\"#DejaVuSans-48\"/>\n       <use x=\"147.412109\" xlink:href=\"#DejaVuSans-46\"/>\n       <use x=\"179.199219\" xlink:href=\"#DejaVuSans-48\"/>\n       <use x=\"242.822266\" xlink:href=\"#DejaVuSans-53\"/>\n      </g>\n     </g>\n    </g>\n    <g id=\"xtick_5\">\n     <g id=\"line2d_5\">\n      <g>\n       <use style=\"stroke:#000000;stroke-width:0.8;\" x=\"200.161561\" xlink:href=\"#m65d9e170a6\" y=\"227.559443\"/>\n      </g>\n     </g>\n     <g id=\"text_5\">\n      <!-- 0.00 -->\n      <g transform=\"translate(189.028748 242.15788)scale(0.1 -0.1)\">\n       <use xlink:href=\"#DejaVuSans-48\"/>\n       <use x=\"63.623047\" xlink:href=\"#DejaVuSans-46\"/>\n       <use x=\"95.410156\" xlink:href=\"#DejaVuSans-48\"/>\n       <use x=\"159.033203\" xlink:href=\"#DejaVuSans-48\"/>\n      </g>\n     </g>\n    </g>\n    <g id=\"xtick_6\">\n     <g id=\"line2d_6\">\n      <g>\n       <use style=\"stroke:#000000;stroke-width:0.8;\" x=\"240.578816\" xlink:href=\"#m65d9e170a6\" y=\"227.559443\"/>\n      </g>\n     </g>\n     <g id=\"text_6\">\n      <!-- 0.05 -->\n      <g transform=\"translate(229.446004 242.15788)scale(0.1 -0.1)\">\n       <use xlink:href=\"#DejaVuSans-48\"/>\n       <use x=\"63.623047\" xlink:href=\"#DejaVuSans-46\"/>\n       <use x=\"95.410156\" xlink:href=\"#DejaVuSans-48\"/>\n       <use x=\"159.033203\" xlink:href=\"#DejaVuSans-53\"/>\n      </g>\n     </g>\n    </g>\n    <g id=\"xtick_7\">\n     <g id=\"line2d_7\">\n      <g>\n       <use style=\"stroke:#000000;stroke-width:0.8;\" x=\"280.996072\" xlink:href=\"#m65d9e170a6\" y=\"227.559443\"/>\n      </g>\n     </g>\n     <g id=\"text_7\">\n      <!-- 0.10 -->\n      <g transform=\"translate(269.863259 242.15788)scale(0.1 -0.1)\">\n       <use xlink:href=\"#DejaVuSans-48\"/>\n       <use x=\"63.623047\" xlink:href=\"#DejaVuSans-46\"/>\n       <use x=\"95.410156\" xlink:href=\"#DejaVuSans-49\"/>\n       <use x=\"159.033203\" xlink:href=\"#DejaVuSans-48\"/>\n      </g>\n     </g>\n    </g>\n    <g id=\"xtick_8\">\n     <g id=\"line2d_8\">\n      <g>\n       <use style=\"stroke:#000000;stroke-width:0.8;\" x=\"321.413328\" xlink:href=\"#m65d9e170a6\" y=\"227.559443\"/>\n      </g>\n     </g>\n     <g id=\"text_8\">\n      <!-- 0.15 -->\n      <g transform=\"translate(310.280515 242.15788)scale(0.1 -0.1)\">\n       <use xlink:href=\"#DejaVuSans-48\"/>\n       <use x=\"63.623047\" xlink:href=\"#DejaVuSans-46\"/>\n       <use x=\"95.410156\" xlink:href=\"#DejaVuSans-49\"/>\n       <use x=\"159.033203\" xlink:href=\"#DejaVuSans-53\"/>\n      </g>\n     </g>\n    </g>\n    <g id=\"xtick_9\">\n     <g id=\"line2d_9\">\n      <g>\n       <use style=\"stroke:#000000;stroke-width:0.8;\" x=\"361.830583\" xlink:href=\"#m65d9e170a6\" y=\"227.559443\"/>\n      </g>\n     </g>\n     <g id=\"text_9\">\n      <!-- 0.20 -->\n      <g transform=\"translate(350.697771 242.15788)scale(0.1 -0.1)\">\n       <use xlink:href=\"#DejaVuSans-48\"/>\n       <use x=\"63.623047\" xlink:href=\"#DejaVuSans-46\"/>\n       <use x=\"95.410156\" xlink:href=\"#DejaVuSans-50\"/>\n       <use x=\"159.033203\" xlink:href=\"#DejaVuSans-48\"/>\n      </g>\n     </g>\n    </g>\n   </g>\n   <g id=\"matplotlib.axis_2\">\n    <g id=\"ytick_1\">\n     <g id=\"line2d_10\">\n      <defs>\n       <path d=\"M 0 0 \nL -3.5 0 \n\" id=\"mf44fecb78f\" style=\"stroke:#000000;stroke-width:0.8;\"/>\n      </defs>\n      <g>\n       <use style=\"stroke:#000000;stroke-width:0.8;\" x=\"33.2875\" xlink:href=\"#mf44fecb78f\" y=\"227.559443\"/>\n      </g>\n     </g>\n     <g id=\"text_10\">\n      <!-- 0 -->\n      <g transform=\"translate(19.925 231.358662)scale(0.1 -0.1)\">\n       <use xlink:href=\"#DejaVuSans-48\"/>\n      </g>\n     </g>\n    </g>\n    <g id=\"ytick_2\">\n     <g id=\"line2d_11\">\n      <g>\n       <use style=\"stroke:#000000;stroke-width:0.8;\" x=\"33.2875\" xlink:href=\"#mf44fecb78f\" y=\"200.489415\"/>\n      </g>\n     </g>\n     <g id=\"text_11\">\n      <!-- 20 -->\n      <g transform=\"translate(13.5625 204.288634)scale(0.1 -0.1)\">\n       <use xlink:href=\"#DejaVuSans-50\"/>\n       <use x=\"63.623047\" xlink:href=\"#DejaVuSans-48\"/>\n      </g>\n     </g>\n    </g>\n    <g id=\"ytick_3\">\n     <g id=\"line2d_12\">\n      <g>\n       <use style=\"stroke:#000000;stroke-width:0.8;\" x=\"33.2875\" xlink:href=\"#mf44fecb78f\" y=\"173.419387\"/>\n      </g>\n     </g>\n     <g id=\"text_12\">\n      <!-- 40 -->\n      <defs>\n       <path d=\"M 37.796875 64.3125 \nL 12.890625 25.390625 \nL 37.796875 25.390625 \nz\nM 35.203125 72.90625 \nL 47.609375 72.90625 \nL 47.609375 25.390625 \nL 58.015625 25.390625 \nL 58.015625 17.1875 \nL 47.609375 17.1875 \nL 47.609375 0 \nL 37.796875 0 \nL 37.796875 17.1875 \nL 4.890625 17.1875 \nL 4.890625 26.703125 \nz\n\" id=\"DejaVuSans-52\"/>\n      </defs>\n      <g transform=\"translate(13.5625 177.218606)scale(0.1 -0.1)\">\n       <use xlink:href=\"#DejaVuSans-52\"/>\n       <use x=\"63.623047\" xlink:href=\"#DejaVuSans-48\"/>\n      </g>\n     </g>\n    </g>\n    <g id=\"ytick_4\">\n     <g id=\"line2d_13\">\n      <g>\n       <use style=\"stroke:#000000;stroke-width:0.8;\" x=\"33.2875\" xlink:href=\"#mf44fecb78f\" y=\"146.349359\"/>\n      </g>\n     </g>\n     <g id=\"text_13\">\n      <!-- 60 -->\n      <defs>\n       <path d=\"M 33.015625 40.375 \nQ 26.375 40.375 22.484375 35.828125 \nQ 18.609375 31.296875 18.609375 23.390625 \nQ 18.609375 15.53125 22.484375 10.953125 \nQ 26.375 6.390625 33.015625 6.390625 \nQ 39.65625 6.390625 43.53125 10.953125 \nQ 47.40625 15.53125 47.40625 23.390625 \nQ 47.40625 31.296875 43.53125 35.828125 \nQ 39.65625 40.375 33.015625 40.375 \nz\nM 52.59375 71.296875 \nL 52.59375 62.3125 \nQ 48.875 64.0625 45.09375 64.984375 \nQ 41.3125 65.921875 37.59375 65.921875 \nQ 27.828125 65.921875 22.671875 59.328125 \nQ 17.53125 52.734375 16.796875 39.40625 \nQ 19.671875 43.65625 24.015625 45.921875 \nQ 28.375 48.1875 33.59375 48.1875 \nQ 44.578125 48.1875 50.953125 41.515625 \nQ 57.328125 34.859375 57.328125 23.390625 \nQ 57.328125 12.15625 50.6875 5.359375 \nQ 44.046875 -1.421875 33.015625 -1.421875 \nQ 20.359375 -1.421875 13.671875 8.265625 \nQ 6.984375 17.96875 6.984375 36.375 \nQ 6.984375 53.65625 15.1875 63.9375 \nQ 23.390625 74.21875 37.203125 74.21875 \nQ 40.921875 74.21875 44.703125 73.484375 \nQ 48.484375 72.75 52.59375 71.296875 \nz\n\" id=\"DejaVuSans-54\"/>\n      </defs>\n      <g transform=\"translate(13.5625 150.148578)scale(0.1 -0.1)\">\n       <use xlink:href=\"#DejaVuSans-54\"/>\n       <use x=\"63.623047\" xlink:href=\"#DejaVuSans-48\"/>\n      </g>\n     </g>\n    </g>\n    <g id=\"ytick_5\">\n     <g id=\"line2d_14\">\n      <g>\n       <use style=\"stroke:#000000;stroke-width:0.8;\" x=\"33.2875\" xlink:href=\"#mf44fecb78f\" y=\"119.279331\"/>\n      </g>\n     </g>\n     <g id=\"text_14\">\n      <!-- 80 -->\n      <defs>\n       <path d=\"M 31.78125 34.625 \nQ 24.75 34.625 20.71875 30.859375 \nQ 16.703125 27.09375 16.703125 20.515625 \nQ 16.703125 13.921875 20.71875 10.15625 \nQ 24.75 6.390625 31.78125 6.390625 \nQ 38.8125 6.390625 42.859375 10.171875 \nQ 46.921875 13.96875 46.921875 20.515625 \nQ 46.921875 27.09375 42.890625 30.859375 \nQ 38.875 34.625 31.78125 34.625 \nz\nM 21.921875 38.8125 \nQ 15.578125 40.375 12.03125 44.71875 \nQ 8.5 49.078125 8.5 55.328125 \nQ 8.5 64.0625 14.71875 69.140625 \nQ 20.953125 74.21875 31.78125 74.21875 \nQ 42.671875 74.21875 48.875 69.140625 \nQ 55.078125 64.0625 55.078125 55.328125 \nQ 55.078125 49.078125 51.53125 44.71875 \nQ 48 40.375 41.703125 38.8125 \nQ 48.828125 37.15625 52.796875 32.3125 \nQ 56.78125 27.484375 56.78125 20.515625 \nQ 56.78125 9.90625 50.3125 4.234375 \nQ 43.84375 -1.421875 31.78125 -1.421875 \nQ 19.734375 -1.421875 13.25 4.234375 \nQ 6.78125 9.90625 6.78125 20.515625 \nQ 6.78125 27.484375 10.78125 32.3125 \nQ 14.796875 37.15625 21.921875 38.8125 \nz\nM 18.3125 54.390625 \nQ 18.3125 48.734375 21.84375 45.5625 \nQ 25.390625 42.390625 31.78125 42.390625 \nQ 38.140625 42.390625 41.71875 45.5625 \nQ 45.3125 48.734375 45.3125 54.390625 \nQ 45.3125 60.0625 41.71875 63.234375 \nQ 38.140625 66.40625 31.78125 66.40625 \nQ 25.390625 66.40625 21.84375 63.234375 \nQ 18.3125 60.0625 18.3125 54.390625 \nz\n\" id=\"DejaVuSans-56\"/>\n      </defs>\n      <g transform=\"translate(13.5625 123.07855)scale(0.1 -0.1)\">\n       <use xlink:href=\"#DejaVuSans-56\"/>\n       <use x=\"63.623047\" xlink:href=\"#DejaVuSans-48\"/>\n      </g>\n     </g>\n    </g>\n    <g id=\"ytick_6\">\n     <g id=\"line2d_15\">\n      <g>\n       <use style=\"stroke:#000000;stroke-width:0.8;\" x=\"33.2875\" xlink:href=\"#mf44fecb78f\" y=\"92.209303\"/>\n      </g>\n     </g>\n     <g id=\"text_15\">\n      <!-- 100 -->\n      <g transform=\"translate(7.2 96.008522)scale(0.1 -0.1)\">\n       <use xlink:href=\"#DejaVuSans-49\"/>\n       <use x=\"63.623047\" xlink:href=\"#DejaVuSans-48\"/>\n       <use x=\"127.246094\" xlink:href=\"#DejaVuSans-48\"/>\n      </g>\n     </g>\n    </g>\n    <g id=\"ytick_7\">\n     <g id=\"line2d_16\">\n      <g>\n       <use style=\"stroke:#000000;stroke-width:0.8;\" x=\"33.2875\" xlink:href=\"#mf44fecb78f\" y=\"65.139275\"/>\n      </g>\n     </g>\n     <g id=\"text_16\">\n      <!-- 120 -->\n      <g transform=\"translate(7.2 68.938494)scale(0.1 -0.1)\">\n       <use xlink:href=\"#DejaVuSans-49\"/>\n       <use x=\"63.623047\" xlink:href=\"#DejaVuSans-50\"/>\n       <use x=\"127.246094\" xlink:href=\"#DejaVuSans-48\"/>\n      </g>\n     </g>\n    </g>\n    <g id=\"ytick_8\">\n     <g id=\"line2d_17\">\n      <g>\n       <use style=\"stroke:#000000;stroke-width:0.8;\" x=\"33.2875\" xlink:href=\"#mf44fecb78f\" y=\"38.069247\"/>\n      </g>\n     </g>\n     <g id=\"text_17\">\n      <!-- 140 -->\n      <g transform=\"translate(7.2 41.868466)scale(0.1 -0.1)\">\n       <use xlink:href=\"#DejaVuSans-49\"/>\n       <use x=\"63.623047\" xlink:href=\"#DejaVuSans-52\"/>\n       <use x=\"127.246094\" xlink:href=\"#DejaVuSans-48\"/>\n      </g>\n     </g>\n    </g>\n    <g id=\"ytick_9\">\n     <g id=\"line2d_18\">\n      <g>\n       <use style=\"stroke:#000000;stroke-width:0.8;\" x=\"33.2875\" xlink:href=\"#mf44fecb78f\" y=\"10.999219\"/>\n      </g>\n     </g>\n     <g id=\"text_18\">\n      <!-- 160 -->\n      <g transform=\"translate(7.2 14.798437)scale(0.1 -0.1)\">\n       <use xlink:href=\"#DejaVuSans-49\"/>\n       <use x=\"63.623047\" xlink:href=\"#DejaVuSans-54\"/>\n       <use x=\"127.246094\" xlink:href=\"#DejaVuSans-48\"/>\n      </g>\n     </g>\n    </g>\n   </g>\n   <g id=\"patch_13\">\n    <path d=\"M 33.2875 227.559443 \nL 33.2875 10.119443 \n\" style=\"fill:none;stroke:#000000;stroke-linecap:square;stroke-linejoin:miter;stroke-width:0.8;\"/>\n   </g>\n   <g id=\"patch_14\">\n    <path d=\"M 368.0875 227.559443 \nL 368.0875 10.119443 \n\" style=\"fill:none;stroke:#000000;stroke-linecap:square;stroke-linejoin:miter;stroke-width:0.8;\"/>\n   </g>\n   <g id=\"patch_15\">\n    <path d=\"M 33.2875 227.559443 \nL 368.0875 227.559443 \n\" style=\"fill:none;stroke:#000000;stroke-linecap:square;stroke-linejoin:miter;stroke-width:0.8;\"/>\n   </g>\n   <g id=\"patch_16\">\n    <path d=\"M 33.2875 10.119443 \nL 368.0875 10.119443 \n\" style=\"fill:none;stroke:#000000;stroke-linecap:square;stroke-linejoin:miter;stroke-width:0.8;\"/>\n   </g>\n  </g>\n </g>\n <defs>\n  <clipPath id=\"p66f1638c63\">\n   <rect height=\"217.44\" width=\"334.8\" x=\"33.2875\" y=\"10.119443\"/>\n  </clipPath>\n </defs>\n</svg>\n",
      "image/png": "[encoded data removed]"
     },
     "metadata": {
      "needs_background": "light"
     }
    }
   ],
   "source": [
    "x = layers.Conv2D(32, kernel_size=3, strides=(2, 2), kernel_initializer=CONV_KERNEL_INIT)\n",
    "get_layer_weights(x)"
   ]
  },
  {
   "cell_type": "code",
   "execution_count": 23,
   "metadata": {},
   "outputs": [],
   "source": [
    "def efficientnet(input_tensor=None, input_shape=None, phi=0, model_name=\"efficientnet_base\", image_data_format=\"channels_last\", drop_connect_rate=0.2):\n",
    "    bn_axis = 3 if image_data_format==\"channels_last\" else 1\n",
    "    # EfficientNet B0 Values (alpha = depth (num layers), beta = width (num filters), gamma = resolution)\n",
    "    alpha, beta, gamma = 1.2, 1.1, 1.15\n",
    "    depth_coeff, width_coeff, res_coeff = alpha**phi, beta**phi, gamma**phi\n",
    "    # Create Stem\n",
    "    input_layer = Input(shape=input_shape) if input_tensor is None else input_tensor\n",
    "    x = layers.Conv2D(round_num_filters(32, width_coeff, rounding_multiple=8), kernel_size=3, strides=(2, 2), padding=\"same\", use_bias=False, kernel_initializer=CONV_KERNEL_INIT, name=\"stem_conv\")(input_layer)\n",
    "    x = layers.BatchNormalization(axis=bn_axis, name='stem_bn')(x)\n",
    "    x = layers.Activation(\"swish\", name=\"stem_swish\")(x)\n",
    "    # Build MBConv Blocks\n",
    "#     I feel like total_network_blocks should include the actual number of repeats due to depth_coeff as well...\n",
    "    total_network_blocks = sum(round_num_repeats(block.num_repeat, depth_coeff) for block in BASELINE_NETWORK_PARAMS)\n",
    "    block_num = 0\n",
    "    for idx, block_args in enumerate(BASELINE_NETWORK_PARAMS):\n",
    "        input_filters = round_num_filters(block_args.input_filters, width_coeff, rounding_multiple=8)\n",
    "        output_filters = round_num_filters(block_args.output_filters, width_coeff, rounding_multiple=8)\n",
    "        num_repeat = round_num_repeats(block_args.num_repeat, depth_coeff)\n",
    "        drop_rate = scaled_dropout(drop_connect_rate, block_num, total_network_blocks)\n",
    "        x = new_mb_conv_block(x, input_filters, output_filters, \"block{}_a_\".format(idx+1), depthwise_kernel_size=block_args.depthwise_kernel_size, depthwise_strides=block_args.strides, se_ratio=block_args.se_ratio, drop_rate=drop_rate, expand_ratio=block_args.expand_ratio)\n",
    "        block_num += 1\n",
    "        # If repeated block\n",
    "        if num_repeat > 1:\n",
    "            # Note we already repeated the first block\n",
    "            for bidx in range(1, num_repeat):\n",
    "                drop_rate = scaled_dropout(drop_connect_rate, block_num, total_network_blocks)\n",
    "                # Input filters needs to be changed so that it matches the first block's output filters\n",
    "                x = new_mb_conv_block(x, output_filters, output_filters, \"block{}_{}_\".format(idx+1, string.ascii_lowercase[bidx]), depthwise_kernel_size=block_args.depthwise_kernel_size, depthwise_strides=[1, 1], se_ratio=block_args.se_ratio, drop_rate=drop_rate, expand_ratio=block_args.expand_ratio)\n",
    "                block_num += 1\n",
    "    # Build Top\n",
    "    # Final conv layer in provided baseline network\n",
    "    x = layers.Conv2D(round_num_filters(1280, width_coeff, rounding_multiple=8), 1, padding='same', use_bias=False, kernel_initializer=CONV_KERNEL_INIT, name='top_conv')(x)\n",
    "    x = layers.BatchNormalization(axis=bn_axis, name='top_bn')(x)\n",
    "    x = layers.Activation(\"swish\")(x)\n",
    "    x = layers.GlobalAveragePooling2D(name='avg_pool')(x)\n",
    "    \n",
    "    # Return output\n",
    "    return x"
   ]
  },
  {
   "cell_type": "code",
   "execution_count": 24,
   "metadata": {
    "tags": []
   },
   "outputs": [
    {
     "output_type": "stream",
     "name": "stdout",
     "text": "32 16 [1, 1]\n16 24 [2, 2]\n24 24 [1, 1]\nhere 0.025\n24 40 [2, 2]\n40 40 [1, 1]\nhere 0.05\n40 80 [2, 2]\n80 80 [1, 1]\nhere 0.07500000000000001\n80 80 [1, 1]\nhere 0.08750000000000001\n80 112 [1, 1]\n112 112 [1, 1]\nhere 0.1125\n112 112 [1, 1]\nhere 0.125\n112 192 [2, 2]\n192 192 [1, 1]\nhere 0.15000000000000002\n192 192 [1, 1]\nhere 0.1625\n192 192 [1, 1]\nhere 0.17500000000000002\n192 320 [1, 1]\n"
    }
   ],
   "source": [
    "# mb_input = layers.Input((112, 112, 32))\n",
    "ting = next(train_generator)\n",
    "#     return EfficientNet(1.0, 1.0, 224, 0.2,\n",
    "#                         model_name='efficientnet-b0',\n",
    "#                         include_top=include_top, weights=weights,\n",
    "#                         input_tensor=input_tensor, input_shape=input_shape,\n",
    "#                         pooling=pooling, classes=classes,\n",
    "#                         **kwargs)\n",
    "ting[0].shape\n",
    "model_input = layers.Input((150, 150, 3))\n",
    "model_output = efficientnet(model_input)"
   ]
  },
  {
   "cell_type": "code",
   "execution_count": 36,
   "metadata": {
    "tags": [
     "outputPrepend"
    ]
   },
   "outputs": [
    {
     "output_type": "stream",
     "name": "stdout",
     "text": "excite[0][0]       \n__________________________________________________________________________________________________\nblock5_b___project_bn (BatchNor (None, 10, 10, 112)  448         block5_b___project_conv[0][0]    \n__________________________________________________________________________________________________\nblock5_b_drop (Dropout)         (None, 10, 10, 112)  0           block5_b___project_bn[0][0]      \n__________________________________________________________________________________________________\nblock5_b___residual (Add)       (None, 10, 10, 112)  0           block5_b_drop[0][0]              \n                                                                 block5_a___project_bn[0][0]      \n__________________________________________________________________________________________________\nblock5_c___expand_conv (Conv2D) (None, 10, 10, 672)  75264       block5_b___residual[0][0]        \n__________________________________________________________________________________________________\nblock5_c___expand_bn (BatchNorm (None, 10, 10, 672)  2688        block5_c___expand_conv[0][0]     \n__________________________________________________________________________________________________\nblock5_c___expand_activation (A (None, 10, 10, 672)  0           block5_c___expand_bn[0][0]       \n__________________________________________________________________________________________________\nblock5_c___dw_conv (DepthwiseCo (None, 10, 10, 672)  16800       block5_c___expand_activation[0][0\n__________________________________________________________________________________________________\nblock5_c___dw_bn (BatchNormaliz (None, 10, 10, 672)  2688        block5_c___dw_conv[0][0]         \n__________________________________________________________________________________________________\nblock5_c___dw_activation (Activ (None, 10, 10, 672)  0           block5_c___dw_bn[0][0]           \n__________________________________________________________________________________________________\nblock5_c___se_squeeze (GlobalAv (None, 672)          0           block5_c___dw_activation[0][0]   \n__________________________________________________________________________________________________\nblock5_c___se_reshape (Reshape) (None, 1, 1, 672)    0           block5_c___se_squeeze[0][0]      \n__________________________________________________________________________________________________\nblock5_c___se_reduce (Conv2D)   (None, 1, 1, 28)     18844       block5_c___se_reshape[0][0]      \n__________________________________________________________________________________________________\nblock5_c___se_expand (Conv2D)   (None, 1, 1, 672)    19488       block5_c___se_reduce[0][0]       \n__________________________________________________________________________________________________\nblock5_c___se_excite (Multiply) (None, 10, 10, 672)  0           block5_c___dw_activation[0][0]   \n                                                                 block5_c___se_expand[0][0]       \n__________________________________________________________________________________________________\nblock5_c___project_conv (Conv2D (None, 10, 10, 112)  75264       block5_c___se_excite[0][0]       \n__________________________________________________________________________________________________\nblock5_c___project_bn (BatchNor (None, 10, 10, 112)  448         block5_c___project_conv[0][0]    \n__________________________________________________________________________________________________\nblock5_c_drop (Dropout)         (None, 10, 10, 112)  0           block5_c___project_bn[0][0]      \n__________________________________________________________________________________________________\nblock5_c___residual (Add)       (None, 10, 10, 112)  0           block5_c_drop[0][0]              \n                                                                 block5_b___residual[0][0]        \n__________________________________________________________________________________________________\nblock6_a___expand_conv (Conv2D) (None, 10, 10, 672)  75264       block5_c___residual[0][0]        \n__________________________________________________________________________________________________\nblock6_a___expand_bn (BatchNorm (None, 10, 10, 672)  2688        block6_a___expand_conv[0][0]     \n__________________________________________________________________________________________________\nblock6_a___expand_activation (A (None, 10, 10, 672)  0           block6_a___expand_bn[0][0]       \n__________________________________________________________________________________________________\nblock6_a___dw_conv (DepthwiseCo (None, 5, 5, 672)    16800       block6_a___expand_activation[0][0\n__________________________________________________________________________________________________\nblock6_a___dw_bn (BatchNormaliz (None, 5, 5, 672)    2688        block6_a___dw_conv[0][0]         \n__________________________________________________________________________________________________\nblock6_a___dw_activation (Activ (None, 5, 5, 672)    0           block6_a___dw_bn[0][0]           \n__________________________________________________________________________________________________\nblock6_a___se_squeeze (GlobalAv (None, 672)          0           block6_a___dw_activation[0][0]   \n__________________________________________________________________________________________________\nblock6_a___se_reshape (Reshape) (None, 1, 1, 672)    0           block6_a___se_squeeze[0][0]      \n__________________________________________________________________________________________________\nblock6_a___se_reduce (Conv2D)   (None, 1, 1, 28)     18844       block6_a___se_reshape[0][0]      \n__________________________________________________________________________________________________\nblock6_a___se_expand (Conv2D)   (None, 1, 1, 672)    19488       block6_a___se_reduce[0][0]       \n__________________________________________________________________________________________________\nblock6_a___se_excite (Multiply) (None, 5, 5, 672)    0           block6_a___dw_activation[0][0]   \n                                                                 block6_a___se_expand[0][0]       \n__________________________________________________________________________________________________\nblock6_a___project_conv (Conv2D (None, 5, 5, 192)    129024      block6_a___se_excite[0][0]       \n__________________________________________________________________________________________________\nblock6_a___project_bn (BatchNor (None, 5, 5, 192)    768         block6_a___project_conv[0][0]    \n__________________________________________________________________________________________________\nblock6_b___expand_conv (Conv2D) (None, 5, 5, 1152)   221184      block6_a___project_bn[0][0]      \n__________________________________________________________________________________________________\nblock6_b___expand_bn (BatchNorm (None, 5, 5, 1152)   4608        block6_b___expand_conv[0][0]     \n__________________________________________________________________________________________________\nblock6_b___expand_activation (A (None, 5, 5, 1152)   0           block6_b___expand_bn[0][0]       \n__________________________________________________________________________________________________\nblock6_b___dw_conv (DepthwiseCo (None, 5, 5, 1152)   28800       block6_b___expand_activation[0][0\n__________________________________________________________________________________________________\nblock6_b___dw_bn (BatchNormaliz (None, 5, 5, 1152)   4608        block6_b___dw_conv[0][0]         \n__________________________________________________________________________________________________\nblock6_b___dw_activation (Activ (None, 5, 5, 1152)   0           block6_b___dw_bn[0][0]           \n__________________________________________________________________________________________________\nblock6_b___se_squeeze (GlobalAv (None, 1152)         0           block6_b___dw_activation[0][0]   \n__________________________________________________________________________________________________\nblock6_b___se_reshape (Reshape) (None, 1, 1, 1152)   0           block6_b___se_squeeze[0][0]      \n__________________________________________________________________________________________________\nblock6_b___se_reduce (Conv2D)   (None, 1, 1, 48)     55344       block6_b___se_reshape[0][0]      \n__________________________________________________________________________________________________\nblock6_b___se_expand (Conv2D)   (None, 1, 1, 1152)   56448       block6_b___se_reduce[0][0]       \n__________________________________________________________________________________________________\nblock6_b___se_excite (Multiply) (None, 5, 5, 1152)   0           block6_b___dw_activation[0][0]   \n                                                                 block6_b___se_expand[0][0]       \n__________________________________________________________________________________________________\nblock6_b___project_conv (Conv2D (None, 5, 5, 192)    221184      block6_b___se_excite[0][0]       \n__________________________________________________________________________________________________\nblock6_b___project_bn (BatchNor (None, 5, 5, 192)    768         block6_b___project_conv[0][0]    \n__________________________________________________________________________________________________\nblock6_b_drop (Dropout)         (None, 5, 5, 192)    0           block6_b___project_bn[0][0]      \n__________________________________________________________________________________________________\nblock6_b___residual (Add)       (None, 5, 5, 192)    0           block6_b_drop[0][0]              \n                                                                 block6_a___project_bn[0][0]      \n__________________________________________________________________________________________________\nblock6_c___expand_conv (Conv2D) (None, 5, 5, 1152)   221184      block6_b___residual[0][0]        \n__________________________________________________________________________________________________\nblock6_c___expand_bn (BatchNorm (None, 5, 5, 1152)   4608        block6_c___expand_conv[0][0]     \n__________________________________________________________________________________________________\nblock6_c___expand_activation (A (None, 5, 5, 1152)   0           block6_c___expand_bn[0][0]       \n__________________________________________________________________________________________________\nblock6_c___dw_conv (DepthwiseCo (None, 5, 5, 1152)   28800       block6_c___expand_activation[0][0\n__________________________________________________________________________________________________\nblock6_c___dw_bn (BatchNormaliz (None, 5, 5, 1152)   4608        block6_c___dw_conv[0][0]         \n__________________________________________________________________________________________________\nblock6_c___dw_activation (Activ (None, 5, 5, 1152)   0           block6_c___dw_bn[0][0]           \n__________________________________________________________________________________________________\nblock6_c___se_squeeze (GlobalAv (None, 1152)         0           block6_c___dw_activation[0][0]   \n__________________________________________________________________________________________________\nblock6_c___se_reshape (Reshape) (None, 1, 1, 1152)   0           block6_c___se_squeeze[0][0]      \n__________________________________________________________________________________________________\nblock6_c___se_reduce (Conv2D)   (None, 1, 1, 48)     55344       block6_c___se_reshape[0][0]      \n__________________________________________________________________________________________________\nblock6_c___se_expand (Conv2D)   (None, 1, 1, 1152)   56448       block6_c___se_reduce[0][0]       \n__________________________________________________________________________________________________\nblock6_c___se_excite (Multiply) (None, 5, 5, 1152)   0           block6_c___dw_activation[0][0]   \n                                                                 block6_c___se_expand[0][0]       \n__________________________________________________________________________________________________\nblock6_c___project_conv (Conv2D (None, 5, 5, 192)    221184      block6_c___se_excite[0][0]       \n__________________________________________________________________________________________________\nblock6_c___project_bn (BatchNor (None, 5, 5, 192)    768         block6_c___project_conv[0][0]    \n__________________________________________________________________________________________________\nblock6_c_drop (Dropout)         (None, 5, 5, 192)    0           block6_c___project_bn[0][0]      \n__________________________________________________________________________________________________\nblock6_c___residual (Add)       (None, 5, 5, 192)    0           block6_c_drop[0][0]              \n                                                                 block6_b___residual[0][0]        \n__________________________________________________________________________________________________\nblock6_d___expand_conv (Conv2D) (None, 5, 5, 1152)   221184      block6_c___residual[0][0]        \n__________________________________________________________________________________________________\nblock6_d___expand_bn (BatchNorm (None, 5, 5, 1152)   4608        block6_d___expand_conv[0][0]     \n__________________________________________________________________________________________________\nblock6_d___expand_activation (A (None, 5, 5, 1152)   0           block6_d___expand_bn[0][0]       \n__________________________________________________________________________________________________\nblock6_d___dw_conv (DepthwiseCo (None, 5, 5, 1152)   28800       block6_d___expand_activation[0][0\n__________________________________________________________________________________________________\nblock6_d___dw_bn (BatchNormaliz (None, 5, 5, 1152)   4608        block6_d___dw_conv[0][0]         \n__________________________________________________________________________________________________\nblock6_d___dw_activation (Activ (None, 5, 5, 1152)   0           block6_d___dw_bn[0][0]           \n__________________________________________________________________________________________________\nblock6_d___se_squeeze (GlobalAv (None, 1152)         0           block6_d___dw_activation[0][0]   \n__________________________________________________________________________________________________\nblock6_d___se_reshape (Reshape) (None, 1, 1, 1152)   0           block6_d___se_squeeze[0][0]      \n__________________________________________________________________________________________________\nblock6_d___se_reduce (Conv2D)   (None, 1, 1, 48)     55344       block6_d___se_reshape[0][0]      \n__________________________________________________________________________________________________\nblock6_d___se_expand (Conv2D)   (None, 1, 1, 1152)   56448       block6_d___se_reduce[0][0]       \n__________________________________________________________________________________________________\nblock6_d___se_excite (Multiply) (None, 5, 5, 1152)   0           block6_d___dw_activation[0][0]   \n                                                                 block6_d___se_expand[0][0]       \n__________________________________________________________________________________________________\nblock6_d___project_conv (Conv2D (None, 5, 5, 192)    221184      block6_d___se_excite[0][0]       \n__________________________________________________________________________________________________\nblock6_d___project_bn (BatchNor (None, 5, 5, 192)    768         block6_d___project_conv[0][0]    \n__________________________________________________________________________________________________\nblock6_d_drop (Dropout)         (None, 5, 5, 192)    0           block6_d___project_bn[0][0]      \n__________________________________________________________________________________________________\nblock6_d___residual (Add)       (None, 5, 5, 192)    0           block6_d_drop[0][0]              \n                                                                 block6_c___residual[0][0]        \n__________________________________________________________________________________________________\nblock7_a___expand_conv (Conv2D) (None, 5, 5, 1152)   221184      block6_d___residual[0][0]        \n__________________________________________________________________________________________________\nblock7_a___expand_bn (BatchNorm (None, 5, 5, 1152)   4608        block7_a___expand_conv[0][0]     \n__________________________________________________________________________________________________\nblock7_a___expand_activation (A (None, 5, 5, 1152)   0           block7_a___expand_bn[0][0]       \n__________________________________________________________________________________________________\nblock7_a___dw_conv (DepthwiseCo (None, 5, 5, 1152)   10368       block7_a___expand_activation[0][0\n__________________________________________________________________________________________________\nblock7_a___dw_bn (BatchNormaliz (None, 5, 5, 1152)   4608        block7_a___dw_conv[0][0]         \n__________________________________________________________________________________________________\nblock7_a___dw_activation (Activ (None, 5, 5, 1152)   0           block7_a___dw_bn[0][0]           \n__________________________________________________________________________________________________\nblock7_a___se_squeeze (GlobalAv (None, 1152)         0           block7_a___dw_activation[0][0]   \n__________________________________________________________________________________________________\nblock7_a___se_reshape (Reshape) (None, 1, 1, 1152)   0           block7_a___se_squeeze[0][0]      \n__________________________________________________________________________________________________\nblock7_a___se_reduce (Conv2D)   (None, 1, 1, 48)     55344       block7_a___se_reshape[0][0]      \n__________________________________________________________________________________________________\nblock7_a___se_expand (Conv2D)   (None, 1, 1, 1152)   56448       block7_a___se_reduce[0][0]       \n__________________________________________________________________________________________________\nblock7_a___se_excite (Multiply) (None, 5, 5, 1152)   0           block7_a___dw_activation[0][0]   \n                                                                 block7_a___se_expand[0][0]       \n__________________________________________________________________________________________________\nblock7_a___project_conv (Conv2D (None, 5, 5, 320)    368640      block7_a___se_excite[0][0]       \n__________________________________________________________________________________________________\nblock7_a___project_bn (BatchNor (None, 5, 5, 320)    1280        block7_a___project_conv[0][0]    \n__________________________________________________________________________________________________\ntop_conv (Conv2D)               (None, 5, 5, 1280)   409600      block7_a___project_bn[0][0]      \n__________________________________________________________________________________________________\ntop_bn (BatchNormalization)     (None, 5, 5, 1280)   5120        top_conv[0][0]                   \n__________________________________________________________________________________________________\ntop_swish (Activation)          (None, 5, 5, 1280)   0           top_bn[0][0]                     \n__________________________________________________________________________________________________\navg_pool (GlobalAveragePooling2 (None, 1280)         0           top_swish[0][0]                  \n__________________________________________________________________________________________________\ndense_1 (Dense)                 (None, 8)            10248       avg_pool[0][0]                   \n==================================================================================================\nTotal params: 4,059,812\nTrainable params: 4,017,796\nNon-trainable params: 42,016\n__________________________________________________________________________________________________\n"
    }
   ],
   "source": []
  },
  {
   "cell_type": "code",
   "execution_count": 25,
   "metadata": {},
   "outputs": [],
   "source": [
    "# model.summary()\n",
    "\n",
    "IMAGENET_WEIGHTS_PATH = (\n",
    "    'https://github.com/Callidior/keras-applications/'\n",
    "    'releases/download/efficientnet/')\n",
    "\n",
    "IMAGENET_WEIGHTS_HASHES = {\n",
    "    'efficientnet-b0': ('163292582f1c6eaca8e7dc7b51b01c61'\n",
    "                        '5b0dbc0039699b4dcd0b975cc21533dc',\n",
    "                        'c1421ad80a9fc67c2cc4000f666aa507'\n",
    "                        '89ce39eedb4e06d531b0c593890ccff3'),\n",
    "    'efficientnet-b1': ('d0a71ddf51ef7a0ca425bab32b7fa7f1'\n",
    "                        '6043ee598ecee73fc674d9560c8f09b0',\n",
    "                        '75de265d03ac52fa74f2f510455ba64f'\n",
    "                        '9c7c5fd96dc923cd4bfefa3d680c4b68'),\n",
    "    'efficientnet-b2': ('bb5451507a6418a574534aa76a91b106'\n",
    "                        'f6b605f3b5dde0b21055694319853086',\n",
    "                        '433b60584fafba1ea3de07443b74cfd3'\n",
    "                        '2ce004a012020b07ef69e22ba8669333'),\n",
    "    'efficientnet-b3': ('03f1fba367f070bd2545f081cfa7f3e7'\n",
    "                        '6f5e1aa3b6f4db700f00552901e75ab9',\n",
    "                        'c5d42eb6cfae8567b418ad3845cfd63a'\n",
    "                        'a48b87f1bd5df8658a49375a9f3135c7'),\n",
    "    'efficientnet-b4': ('98852de93f74d9833c8640474b2c698d'\n",
    "                        'b45ec60690c75b3bacb1845e907bf94f',\n",
    "                        '7942c1407ff1feb34113995864970cd4'\n",
    "                        'd9d91ea64877e8d9c38b6c1e0767c411'),\n",
    "    'efficientnet-b5': ('30172f1d45f9b8a41352d4219bf930ee'\n",
    "                        '3339025fd26ab314a817ba8918fefc7d',\n",
    "                        '9d197bc2bfe29165c10a2af8c2ebc675'\n",
    "                        '07f5d70456f09e584c71b822941b1952'),\n",
    "    'efficientnet-b6': ('f5270466747753485a082092ac9939ca'\n",
    "                        'a546eb3f09edca6d6fff842cad938720',\n",
    "                        '1d0923bb038f2f8060faaf0a0449db4b'\n",
    "                        '96549a881747b7c7678724ac79f427ed'),\n",
    "    'efficientnet-b7': ('876a41319980638fa597acbbf956a82d'\n",
    "                        '10819531ff2dcb1a52277f10c7aefa1a',\n",
    "                        '60b56ff3a8daccc8d96edfd40b204c11'\n",
    "                        '3e51748da657afd58034d54d3cec2bac')\n",
    "}\n",
    "\n",
    "NS_WEIGHTS_PATH = 'https://github.com/qubvel/efficientnet/releases/download/v0.0.1/'\n",
    "NS_WEIGHTS_HASHES = {\n",
    "    'efficientnet-b0': ('5e376ca93bc6ba60f5245d13d44e4323', 'a5b48ae7547fc990c7e4f3951230290d'),\n",
    "    'efficientnet-b1': ('79d29151fdaec95ac78e1ca97fc09634', '4d35baa41ca36f175506a33918f7e334'),\n",
    "    'efficientnet-b2': ('8c643222ffb73a2bfdbdf90f2cde01af', 'e496e531f41242598288ff3a4b4199f9'),\n",
    "    'efficientnet-b3': ('3b29e32602dad75d1f575d9ded00f930', '47da5b154de1372b557a65795d3e6135'),\n",
    "    'efficientnet-b4': ('c000bfa03bf3c93557851b4e1fe18f51', '47c10902a4949eec589ab92fe1c35ed8'),\n",
    "    'efficientnet-b5': ('8a920cd4ee793f53c251a1ecd3a5cee6', '4d53ef3544d4114e2d8080d6d777a74c'),\n",
    "    'efficientnet-b6': ('cc69df409516ab57e30e51016326853e', '71f96d7e15d9f891f3729b4f4e701f77'),\n",
    "    'efficientnet-b7': ('1ac825752cbc26901c8952e030ae4dd9', 'e112b00c464fe929b821edbb35d1af55')\n",
    "}"
   ]
  },
  {
   "cell_type": "code",
   "execution_count": 26,
   "metadata": {},
   "outputs": [],
   "source": [
    "# file_name = \"{}_{}_notop.h5\".format('efficientnet-b0', 'noisy-student')\n",
    "# file_hash = NS_WEIGHTS_HASHES['efficientnet-b0'][1]\n",
    "# weights_path = keras.utils.get_file(file_name, NS_WEIGHTS_PATH + file_name, cache_subdir='models', file_hash=file_hash)\n",
    "model_name='efficientnet-b0'\n",
    "file_name = model_name + '_weights_tf_dim_ordering_tf_kernels_autoaugment_notop.h5'\n",
    "file_hash = IMAGENET_WEIGHTS_HASHES[model_name][1]\n",
    "weights_path = keras.utils.get_file(\n",
    "            file_name,\n",
    "            IMAGENET_WEIGHTS_PATH + file_name,\n",
    "            cache_subdir='models',\n",
    "            file_hash=file_hash,\n",
    "        )"
   ]
  },
  {
   "cell_type": "code",
   "execution_count": 27,
   "metadata": {},
   "outputs": [],
   "source": [
    "base_model = models.Model(model_input, model_output)\n",
    "base_model.load_weights(weights_path)"
   ]
  },
  {
   "cell_type": "code",
   "execution_count": 28,
   "metadata": {
    "tags": [
     "outputPrepend"
    ]
   },
   "outputs": [
    {
     "output_type": "stream",
     "name": "stdout",
     "text": "ject_conv[0][0]    \n__________________________________________________________________________________________________\nblock5_b_drop (Dropout)         (None, 10, 10, 112)  0           block5_b___project_bn[0][0]      \n__________________________________________________________________________________________________\nblock5_b___residual (Add)       (None, 10, 10, 112)  0           block5_b_drop[0][0]              \n                                                                 block5_a___project_bn[0][0]      \n__________________________________________________________________________________________________\nblock5_c___expand_conv (Conv2D) (None, 10, 10, 672)  75264       block5_b___residual[0][0]        \n__________________________________________________________________________________________________\nblock5_c___expand_bn (BatchNorm (None, 10, 10, 672)  2688        block5_c___expand_conv[0][0]     \n__________________________________________________________________________________________________\nactivation_20 (Activation)      (None, 10, 10, 672)  0           block5_c___expand_bn[0][0]       \n__________________________________________________________________________________________________\nblock5_c___dw_conv (DepthwiseCo (None, 10, 10, 672)  16800       activation_20[0][0]              \n__________________________________________________________________________________________________\nblock5_c___dw_bn (BatchNormaliz (None, 10, 10, 672)  2688        block5_c___dw_conv[0][0]         \n__________________________________________________________________________________________________\nactivation_21 (Activation)      (None, 10, 10, 672)  0           block5_c___dw_bn[0][0]           \n__________________________________________________________________________________________________\nblock5_c___se_squeeze (GlobalAv (None, 672)          0           activation_21[0][0]              \n__________________________________________________________________________________________________\nblock5_c___se_reshape (Reshape) (None, 1, 1, 672)    0           block5_c___se_squeeze[0][0]      \n__________________________________________________________________________________________________\nblock5_c___se_reduce (Conv2D)   (None, 1, 1, 28)     18844       block5_c___se_reshape[0][0]      \n__________________________________________________________________________________________________\nblock5_c___se_expand (Conv2D)   (None, 1, 1, 672)    19488       block5_c___se_reduce[0][0]       \n__________________________________________________________________________________________________\nblock5_c___se_excite (Multiply) (None, 10, 10, 672)  0           activation_21[0][0]              \n                                                                 block5_c___se_expand[0][0]       \n__________________________________________________________________________________________________\nblock5_c___project_conv (Conv2D (None, 10, 10, 112)  75264       block5_c___se_excite[0][0]       \n__________________________________________________________________________________________________\nblock5_c___project_bn (BatchNor (None, 10, 10, 112)  448         block5_c___project_conv[0][0]    \n__________________________________________________________________________________________________\nblock5_c_drop (Dropout)         (None, 10, 10, 112)  0           block5_c___project_bn[0][0]      \n__________________________________________________________________________________________________\nblock5_c___residual (Add)       (None, 10, 10, 112)  0           block5_c_drop[0][0]              \n                                                                 block5_b___residual[0][0]        \n__________________________________________________________________________________________________\nblock6_a___expand_conv (Conv2D) (None, 10, 10, 672)  75264       block5_c___residual[0][0]        \n__________________________________________________________________________________________________\nblock6_a___expand_bn (BatchNorm (None, 10, 10, 672)  2688        block6_a___expand_conv[0][0]     \n__________________________________________________________________________________________________\nactivation_22 (Activation)      (None, 10, 10, 672)  0           block6_a___expand_bn[0][0]       \n__________________________________________________________________________________________________\nblock6_a___dw_conv (DepthwiseCo (None, 5, 5, 672)    16800       activation_22[0][0]              \n__________________________________________________________________________________________________\nblock6_a___dw_bn (BatchNormaliz (None, 5, 5, 672)    2688        block6_a___dw_conv[0][0]         \n__________________________________________________________________________________________________\nactivation_23 (Activation)      (None, 5, 5, 672)    0           block6_a___dw_bn[0][0]           \n__________________________________________________________________________________________________\nblock6_a___se_squeeze (GlobalAv (None, 672)          0           activation_23[0][0]              \n__________________________________________________________________________________________________\nblock6_a___se_reshape (Reshape) (None, 1, 1, 672)    0           block6_a___se_squeeze[0][0]      \n__________________________________________________________________________________________________\nblock6_a___se_reduce (Conv2D)   (None, 1, 1, 28)     18844       block6_a___se_reshape[0][0]      \n__________________________________________________________________________________________________\nblock6_a___se_expand (Conv2D)   (None, 1, 1, 672)    19488       block6_a___se_reduce[0][0]       \n__________________________________________________________________________________________________\nblock6_a___se_excite (Multiply) (None, 5, 5, 672)    0           activation_23[0][0]              \n                                                                 block6_a___se_expand[0][0]       \n__________________________________________________________________________________________________\nblock6_a___project_conv (Conv2D (None, 5, 5, 192)    129024      block6_a___se_excite[0][0]       \n__________________________________________________________________________________________________\nblock6_a___project_bn (BatchNor (None, 5, 5, 192)    768         block6_a___project_conv[0][0]    \n__________________________________________________________________________________________________\nblock6_b___expand_conv (Conv2D) (None, 5, 5, 1152)   221184      block6_a___project_bn[0][0]      \n__________________________________________________________________________________________________\nblock6_b___expand_bn (BatchNorm (None, 5, 5, 1152)   4608        block6_b___expand_conv[0][0]     \n__________________________________________________________________________________________________\nactivation_24 (Activation)      (None, 5, 5, 1152)   0           block6_b___expand_bn[0][0]       \n__________________________________________________________________________________________________\nblock6_b___dw_conv (DepthwiseCo (None, 5, 5, 1152)   28800       activation_24[0][0]              \n__________________________________________________________________________________________________\nblock6_b___dw_bn (BatchNormaliz (None, 5, 5, 1152)   4608        block6_b___dw_conv[0][0]         \n__________________________________________________________________________________________________\nactivation_25 (Activation)      (None, 5, 5, 1152)   0           block6_b___dw_bn[0][0]           \n__________________________________________________________________________________________________\nblock6_b___se_squeeze (GlobalAv (None, 1152)         0           activation_25[0][0]              \n__________________________________________________________________________________________________\nblock6_b___se_reshape (Reshape) (None, 1, 1, 1152)   0           block6_b___se_squeeze[0][0]      \n__________________________________________________________________________________________________\nblock6_b___se_reduce (Conv2D)   (None, 1, 1, 48)     55344       block6_b___se_reshape[0][0]      \n__________________________________________________________________________________________________\nblock6_b___se_expand (Conv2D)   (None, 1, 1, 1152)   56448       block6_b___se_reduce[0][0]       \n__________________________________________________________________________________________________\nblock6_b___se_excite (Multiply) (None, 5, 5, 1152)   0           activation_25[0][0]              \n                                                                 block6_b___se_expand[0][0]       \n__________________________________________________________________________________________________\nblock6_b___project_conv (Conv2D (None, 5, 5, 192)    221184      block6_b___se_excite[0][0]       \n__________________________________________________________________________________________________\nblock6_b___project_bn (BatchNor (None, 5, 5, 192)    768         block6_b___project_conv[0][0]    \n__________________________________________________________________________________________________\nblock6_b_drop (Dropout)         (None, 5, 5, 192)    0           block6_b___project_bn[0][0]      \n__________________________________________________________________________________________________\nblock6_b___residual (Add)       (None, 5, 5, 192)    0           block6_b_drop[0][0]              \n                                                                 block6_a___project_bn[0][0]      \n__________________________________________________________________________________________________\nblock6_c___expand_conv (Conv2D) (None, 5, 5, 1152)   221184      block6_b___residual[0][0]        \n__________________________________________________________________________________________________\nblock6_c___expand_bn (BatchNorm (None, 5, 5, 1152)   4608        block6_c___expand_conv[0][0]     \n__________________________________________________________________________________________________\nactivation_26 (Activation)      (None, 5, 5, 1152)   0           block6_c___expand_bn[0][0]       \n__________________________________________________________________________________________________\nblock6_c___dw_conv (DepthwiseCo (None, 5, 5, 1152)   28800       activation_26[0][0]              \n__________________________________________________________________________________________________\nblock6_c___dw_bn (BatchNormaliz (None, 5, 5, 1152)   4608        block6_c___dw_conv[0][0]         \n__________________________________________________________________________________________________\nactivation_27 (Activation)      (None, 5, 5, 1152)   0           block6_c___dw_bn[0][0]           \n__________________________________________________________________________________________________\nblock6_c___se_squeeze (GlobalAv (None, 1152)         0           activation_27[0][0]              \n__________________________________________________________________________________________________\nblock6_c___se_reshape (Reshape) (None, 1, 1, 1152)   0           block6_c___se_squeeze[0][0]      \n__________________________________________________________________________________________________\nblock6_c___se_reduce (Conv2D)   (None, 1, 1, 48)     55344       block6_c___se_reshape[0][0]      \n__________________________________________________________________________________________________\nblock6_c___se_expand (Conv2D)   (None, 1, 1, 1152)   56448       block6_c___se_reduce[0][0]       \n__________________________________________________________________________________________________\nblock6_c___se_excite (Multiply) (None, 5, 5, 1152)   0           activation_27[0][0]              \n                                                                 block6_c___se_expand[0][0]       \n__________________________________________________________________________________________________\nblock6_c___project_conv (Conv2D (None, 5, 5, 192)    221184      block6_c___se_excite[0][0]       \n__________________________________________________________________________________________________\nblock6_c___project_bn (BatchNor (None, 5, 5, 192)    768         block6_c___project_conv[0][0]    \n__________________________________________________________________________________________________\nblock6_c_drop (Dropout)         (None, 5, 5, 192)    0           block6_c___project_bn[0][0]      \n__________________________________________________________________________________________________\nblock6_c___residual (Add)       (None, 5, 5, 192)    0           block6_c_drop[0][0]              \n                                                                 block6_b___residual[0][0]        \n__________________________________________________________________________________________________\nblock6_d___expand_conv (Conv2D) (None, 5, 5, 1152)   221184      block6_c___residual[0][0]        \n__________________________________________________________________________________________________\nblock6_d___expand_bn (BatchNorm (None, 5, 5, 1152)   4608        block6_d___expand_conv[0][0]     \n__________________________________________________________________________________________________\nactivation_28 (Activation)      (None, 5, 5, 1152)   0           block6_d___expand_bn[0][0]       \n__________________________________________________________________________________________________\nblock6_d___dw_conv (DepthwiseCo (None, 5, 5, 1152)   28800       activation_28[0][0]              \n__________________________________________________________________________________________________\nblock6_d___dw_bn (BatchNormaliz (None, 5, 5, 1152)   4608        block6_d___dw_conv[0][0]         \n__________________________________________________________________________________________________\nactivation_29 (Activation)      (None, 5, 5, 1152)   0           block6_d___dw_bn[0][0]           \n__________________________________________________________________________________________________\nblock6_d___se_squeeze (GlobalAv (None, 1152)         0           activation_29[0][0]              \n__________________________________________________________________________________________________\nblock6_d___se_reshape (Reshape) (None, 1, 1, 1152)   0           block6_d___se_squeeze[0][0]      \n__________________________________________________________________________________________________\nblock6_d___se_reduce (Conv2D)   (None, 1, 1, 48)     55344       block6_d___se_reshape[0][0]      \n__________________________________________________________________________________________________\nblock6_d___se_expand (Conv2D)   (None, 1, 1, 1152)   56448       block6_d___se_reduce[0][0]       \n__________________________________________________________________________________________________\nblock6_d___se_excite (Multiply) (None, 5, 5, 1152)   0           activation_29[0][0]              \n                                                                 block6_d___se_expand[0][0]       \n__________________________________________________________________________________________________\nblock6_d___project_conv (Conv2D (None, 5, 5, 192)    221184      block6_d___se_excite[0][0]       \n__________________________________________________________________________________________________\nblock6_d___project_bn (BatchNor (None, 5, 5, 192)    768         block6_d___project_conv[0][0]    \n__________________________________________________________________________________________________\nblock6_d_drop (Dropout)         (None, 5, 5, 192)    0           block6_d___project_bn[0][0]      \n__________________________________________________________________________________________________\nblock6_d___residual (Add)       (None, 5, 5, 192)    0           block6_d_drop[0][0]              \n                                                                 block6_c___residual[0][0]        \n__________________________________________________________________________________________________\nblock7_a___expand_conv (Conv2D) (None, 5, 5, 1152)   221184      block6_d___residual[0][0]        \n__________________________________________________________________________________________________\nblock7_a___expand_bn (BatchNorm (None, 5, 5, 1152)   4608        block7_a___expand_conv[0][0]     \n__________________________________________________________________________________________________\nactivation_30 (Activation)      (None, 5, 5, 1152)   0           block7_a___expand_bn[0][0]       \n__________________________________________________________________________________________________\nblock7_a___dw_conv (DepthwiseCo (None, 5, 5, 1152)   10368       activation_30[0][0]              \n__________________________________________________________________________________________________\nblock7_a___dw_bn (BatchNormaliz (None, 5, 5, 1152)   4608        block7_a___dw_conv[0][0]         \n__________________________________________________________________________________________________\nactivation_31 (Activation)      (None, 5, 5, 1152)   0           block7_a___dw_bn[0][0]           \n__________________________________________________________________________________________________\nblock7_a___se_squeeze (GlobalAv (None, 1152)         0           activation_31[0][0]              \n__________________________________________________________________________________________________\nblock7_a___se_reshape (Reshape) (None, 1, 1, 1152)   0           block7_a___se_squeeze[0][0]      \n__________________________________________________________________________________________________\nblock7_a___se_reduce (Conv2D)   (None, 1, 1, 48)     55344       block7_a___se_reshape[0][0]      \n__________________________________________________________________________________________________\nblock7_a___se_expand (Conv2D)   (None, 1, 1, 1152)   56448       block7_a___se_reduce[0][0]       \n__________________________________________________________________________________________________\nblock7_a___se_excite (Multiply) (None, 5, 5, 1152)   0           activation_31[0][0]              \n                                                                 block7_a___se_expand[0][0]       \n__________________________________________________________________________________________________\nblock7_a___project_conv (Conv2D (None, 5, 5, 320)    368640      block7_a___se_excite[0][0]       \n__________________________________________________________________________________________________\nblock7_a___project_bn (BatchNor (None, 5, 5, 320)    1280        block7_a___project_conv[0][0]    \n__________________________________________________________________________________________________\ntop_conv (Conv2D)               (None, 5, 5, 1280)   409600      block7_a___project_bn[0][0]      \n__________________________________________________________________________________________________\ntop_bn (BatchNormalization)     (None, 5, 5, 1280)   5120        top_conv[0][0]                   \n__________________________________________________________________________________________________\nactivation_32 (Activation)      (None, 5, 5, 1280)   0           top_bn[0][0]                     \n__________________________________________________________________________________________________\navg_pool (GlobalAveragePooling2 (None, 1280)         0           activation_32[0][0]              \n__________________________________________________________________________________________________\ndense_1 (Dense)                 (None, 128)          163968      avg_pool[0][0]                   \n__________________________________________________________________________________________________\ndense_2 (Dense)                 (None, 8)            1032        dense_1[0][0]                    \n==================================================================================================\nTotal params: 4,214,564\nTrainable params: 4,172,548\nNon-trainable params: 42,016\n__________________________________________________________________________________________________\n"
    }
   ],
   "source": [
    "ting = Dense(128, activation=\"relu\")(base_model.output)\n",
    "predictions = Dense(8, activation='softmax')(ting)\n",
    "model = models.Model(base_model.input, predictions)\n",
    "model.summary()"
   ]
  },
  {
   "cell_type": "code",
   "execution_count": 29,
   "metadata": {
    "tags": []
   },
   "outputs": [],
   "source": [
    "# freeze_model_layers(model, trainable_start=len(base_model.layers))\n",
    "# Probabilities produced by softmax will always sum to 1\n",
    "default_adam = keras.optimizers.Adam(lr=0.001, beta_1=0.9, beta_2=0.999, amsgrad=False)\n",
    "slow_adam = keras.optimizers.Adam(lr=0.0001, beta_1=0.9, beta_2=0.999, amsgrad=False)\n",
    "model.compile(loss='categorical_crossentropy',optimizer=default_adam,metrics=['accuracy'])"
   ]
  },
  {
   "cell_type": "code",
   "execution_count": 30,
   "metadata": {
    "tags": []
   },
   "outputs": [
    {
     "output_type": "stream",
     "name": "stdout",
     "text": "Epoch 1/60\n111/111 [==============================] - 23s 212ms/step - loss: 0.5485 - acc: 0.8108 - val_loss: 0.3383 - val_acc: 0.8900\nEpoch 2/60\n111/111 [==============================] - 14s 129ms/step - loss: 0.3406 - acc: 0.8871 - val_loss: 0.6804 - val_acc: 0.8164\nEpoch 3/60\n111/111 [==============================] - 14s 128ms/step - loss: 0.2741 - acc: 0.9085 - val_loss: 0.2810 - val_acc: 0.9229\nEpoch 4/60\n111/111 [==============================] - 14s 129ms/step - loss: 0.2424 - acc: 0.9169 - val_loss: 0.1707 - val_acc: 0.9388\nEpoch 5/60\n111/111 [==============================] - 14s 128ms/step - loss: 0.2035 - acc: 0.9276 - val_loss: 0.1835 - val_acc: 0.9388\nEpoch 6/60\n 62/111 [===============>..............] - ETA: 6s - loss: 0.2312 - acc: 0.9218"
    },
    {
     "output_type": "error",
     "ename": "KeyboardInterrupt",
     "evalue": "",
     "traceback": [
      "\u001b[0;31m---------------------------------------------------------------------------\u001b[0m",
      "\u001b[0;31mKeyboardInterrupt\u001b[0m                         Traceback (most recent call last)",
      "\u001b[0;32m<ipython-input-30-a9d4951694b1>\u001b[0m in \u001b[0;36m<module>\u001b[0;34m\u001b[0m\n\u001b[1;32m      7\u001b[0m                               \u001b[0mvalidation_data\u001b[0m\u001b[0;34m=\u001b[0m\u001b[0mvalidation_generator\u001b[0m\u001b[0;34m,\u001b[0m\u001b[0mvalidation_steps\u001b[0m\u001b[0;34m=\u001b[0m\u001b[0mvalidation_steps\u001b[0m\u001b[0;34m,\u001b[0m\u001b[0;34m\u001b[0m\u001b[0;34m\u001b[0m\u001b[0m\n\u001b[1;32m      8\u001b[0m                               \u001b[0mcallbacks\u001b[0m\u001b[0;34m=\u001b[0m\u001b[0;34m[\u001b[0m\u001b[0mes\u001b[0m\u001b[0;34m,\u001b[0m \u001b[0mmc\u001b[0m\u001b[0;34m,\u001b[0m \u001b[0mlearning_rate_reduction\u001b[0m\u001b[0;34m]\u001b[0m\u001b[0;34m,\u001b[0m\u001b[0;34m\u001b[0m\u001b[0;34m\u001b[0m\u001b[0m\n\u001b[0;32m----> 9\u001b[0;31m                               workers=6, max_queue_size=30)\n\u001b[0m",
      "\u001b[0;32m~/anaconda3/envs/dstk/lib/python3.6/site-packages/keras/legacy/interfaces.py\u001b[0m in \u001b[0;36mwrapper\u001b[0;34m(*args, **kwargs)\u001b[0m\n\u001b[1;32m     89\u001b[0m                 warnings.warn('Update your `' + object_name + '` call to the ' +\n\u001b[1;32m     90\u001b[0m                               'Keras 2 API: ' + signature, stacklevel=2)\n\u001b[0;32m---> 91\u001b[0;31m             \u001b[0;32mreturn\u001b[0m \u001b[0mfunc\u001b[0m\u001b[0;34m(\u001b[0m\u001b[0;34m*\u001b[0m\u001b[0margs\u001b[0m\u001b[0;34m,\u001b[0m \u001b[0;34m**\u001b[0m\u001b[0mkwargs\u001b[0m\u001b[0;34m)\u001b[0m\u001b[0;34m\u001b[0m\u001b[0;34m\u001b[0m\u001b[0m\n\u001b[0m\u001b[1;32m     92\u001b[0m         \u001b[0mwrapper\u001b[0m\u001b[0;34m.\u001b[0m\u001b[0m_original_function\u001b[0m \u001b[0;34m=\u001b[0m \u001b[0mfunc\u001b[0m\u001b[0;34m\u001b[0m\u001b[0;34m\u001b[0m\u001b[0m\n\u001b[1;32m     93\u001b[0m         \u001b[0;32mreturn\u001b[0m \u001b[0mwrapper\u001b[0m\u001b[0;34m\u001b[0m\u001b[0;34m\u001b[0m\u001b[0m\n",
      "\u001b[0;32m~/anaconda3/envs/dstk/lib/python3.6/site-packages/keras/engine/training.py\u001b[0m in \u001b[0;36mfit_generator\u001b[0;34m(self, generator, steps_per_epoch, epochs, verbose, callbacks, validation_data, validation_steps, class_weight, max_queue_size, workers, use_multiprocessing, shuffle, initial_epoch)\u001b[0m\n\u001b[1;32m   1416\u001b[0m             \u001b[0muse_multiprocessing\u001b[0m\u001b[0;34m=\u001b[0m\u001b[0muse_multiprocessing\u001b[0m\u001b[0;34m,\u001b[0m\u001b[0;34m\u001b[0m\u001b[0;34m\u001b[0m\u001b[0m\n\u001b[1;32m   1417\u001b[0m             \u001b[0mshuffle\u001b[0m\u001b[0;34m=\u001b[0m\u001b[0mshuffle\u001b[0m\u001b[0;34m,\u001b[0m\u001b[0;34m\u001b[0m\u001b[0;34m\u001b[0m\u001b[0m\n\u001b[0;32m-> 1418\u001b[0;31m             initial_epoch=initial_epoch)\n\u001b[0m\u001b[1;32m   1419\u001b[0m \u001b[0;34m\u001b[0m\u001b[0m\n\u001b[1;32m   1420\u001b[0m     \u001b[0;34m@\u001b[0m\u001b[0minterfaces\u001b[0m\u001b[0;34m.\u001b[0m\u001b[0mlegacy_generator_methods_support\u001b[0m\u001b[0;34m\u001b[0m\u001b[0;34m\u001b[0m\u001b[0m\n",
      "\u001b[0;32m~/anaconda3/envs/dstk/lib/python3.6/site-packages/keras/engine/training_generator.py\u001b[0m in \u001b[0;36mfit_generator\u001b[0;34m(model, generator, steps_per_epoch, epochs, verbose, callbacks, validation_data, validation_steps, class_weight, max_queue_size, workers, use_multiprocessing, shuffle, initial_epoch)\u001b[0m\n\u001b[1;32m    215\u001b[0m                 outs = model.train_on_batch(x, y,\n\u001b[1;32m    216\u001b[0m                                             \u001b[0msample_weight\u001b[0m\u001b[0;34m=\u001b[0m\u001b[0msample_weight\u001b[0m\u001b[0;34m,\u001b[0m\u001b[0;34m\u001b[0m\u001b[0;34m\u001b[0m\u001b[0m\n\u001b[0;32m--> 217\u001b[0;31m                                             class_weight=class_weight)\n\u001b[0m\u001b[1;32m    218\u001b[0m \u001b[0;34m\u001b[0m\u001b[0m\n\u001b[1;32m    219\u001b[0m                 \u001b[0mouts\u001b[0m \u001b[0;34m=\u001b[0m \u001b[0mto_list\u001b[0m\u001b[0;34m(\u001b[0m\u001b[0mouts\u001b[0m\u001b[0;34m)\u001b[0m\u001b[0;34m\u001b[0m\u001b[0;34m\u001b[0m\u001b[0m\n",
      "\u001b[0;32m~/anaconda3/envs/dstk/lib/python3.6/site-packages/keras/engine/training.py\u001b[0m in \u001b[0;36mtrain_on_batch\u001b[0;34m(self, x, y, sample_weight, class_weight)\u001b[0m\n\u001b[1;32m   1215\u001b[0m             \u001b[0mins\u001b[0m \u001b[0;34m=\u001b[0m \u001b[0mx\u001b[0m \u001b[0;34m+\u001b[0m \u001b[0my\u001b[0m \u001b[0;34m+\u001b[0m \u001b[0msample_weights\u001b[0m\u001b[0;34m\u001b[0m\u001b[0;34m\u001b[0m\u001b[0m\n\u001b[1;32m   1216\u001b[0m         \u001b[0mself\u001b[0m\u001b[0;34m.\u001b[0m\u001b[0m_make_train_function\u001b[0m\u001b[0;34m(\u001b[0m\u001b[0;34m)\u001b[0m\u001b[0;34m\u001b[0m\u001b[0;34m\u001b[0m\u001b[0m\n\u001b[0;32m-> 1217\u001b[0;31m         \u001b[0moutputs\u001b[0m \u001b[0;34m=\u001b[0m \u001b[0mself\u001b[0m\u001b[0;34m.\u001b[0m\u001b[0mtrain_function\u001b[0m\u001b[0;34m(\u001b[0m\u001b[0mins\u001b[0m\u001b[0;34m)\u001b[0m\u001b[0;34m\u001b[0m\u001b[0;34m\u001b[0m\u001b[0m\n\u001b[0m\u001b[1;32m   1218\u001b[0m         \u001b[0;32mreturn\u001b[0m \u001b[0munpack_singleton\u001b[0m\u001b[0;34m(\u001b[0m\u001b[0moutputs\u001b[0m\u001b[0;34m)\u001b[0m\u001b[0;34m\u001b[0m\u001b[0;34m\u001b[0m\u001b[0m\n\u001b[1;32m   1219\u001b[0m \u001b[0;34m\u001b[0m\u001b[0m\n",
      "\u001b[0;32m~/anaconda3/envs/dstk/lib/python3.6/site-packages/keras/backend/tensorflow_backend.py\u001b[0m in \u001b[0;36m__call__\u001b[0;34m(self, inputs)\u001b[0m\n\u001b[1;32m   2713\u001b[0m                 \u001b[0;32mreturn\u001b[0m \u001b[0mself\u001b[0m\u001b[0;34m.\u001b[0m\u001b[0m_legacy_call\u001b[0m\u001b[0;34m(\u001b[0m\u001b[0minputs\u001b[0m\u001b[0;34m)\u001b[0m\u001b[0;34m\u001b[0m\u001b[0;34m\u001b[0m\u001b[0m\n\u001b[1;32m   2714\u001b[0m \u001b[0;34m\u001b[0m\u001b[0m\n\u001b[0;32m-> 2715\u001b[0;31m             \u001b[0;32mreturn\u001b[0m \u001b[0mself\u001b[0m\u001b[0;34m.\u001b[0m\u001b[0m_call\u001b[0m\u001b[0;34m(\u001b[0m\u001b[0minputs\u001b[0m\u001b[0;34m)\u001b[0m\u001b[0;34m\u001b[0m\u001b[0;34m\u001b[0m\u001b[0m\n\u001b[0m\u001b[1;32m   2716\u001b[0m         \u001b[0;32melse\u001b[0m\u001b[0;34m:\u001b[0m\u001b[0;34m\u001b[0m\u001b[0;34m\u001b[0m\u001b[0m\n\u001b[1;32m   2717\u001b[0m             \u001b[0;32mif\u001b[0m \u001b[0mpy_any\u001b[0m\u001b[0;34m(\u001b[0m\u001b[0mis_tensor\u001b[0m\u001b[0;34m(\u001b[0m\u001b[0mx\u001b[0m\u001b[0;34m)\u001b[0m \u001b[0;32mfor\u001b[0m \u001b[0mx\u001b[0m \u001b[0;32min\u001b[0m \u001b[0minputs\u001b[0m\u001b[0;34m)\u001b[0m\u001b[0;34m:\u001b[0m\u001b[0;34m\u001b[0m\u001b[0;34m\u001b[0m\u001b[0m\n",
      "\u001b[0;32m~/anaconda3/envs/dstk/lib/python3.6/site-packages/keras/backend/tensorflow_backend.py\u001b[0m in \u001b[0;36m_call\u001b[0;34m(self, inputs)\u001b[0m\n\u001b[1;32m   2673\u001b[0m             \u001b[0mfetched\u001b[0m \u001b[0;34m=\u001b[0m \u001b[0mself\u001b[0m\u001b[0;34m.\u001b[0m\u001b[0m_callable_fn\u001b[0m\u001b[0;34m(\u001b[0m\u001b[0;34m*\u001b[0m\u001b[0marray_vals\u001b[0m\u001b[0;34m,\u001b[0m \u001b[0mrun_metadata\u001b[0m\u001b[0;34m=\u001b[0m\u001b[0mself\u001b[0m\u001b[0;34m.\u001b[0m\u001b[0mrun_metadata\u001b[0m\u001b[0;34m)\u001b[0m\u001b[0;34m\u001b[0m\u001b[0;34m\u001b[0m\u001b[0m\n\u001b[1;32m   2674\u001b[0m         \u001b[0;32melse\u001b[0m\u001b[0;34m:\u001b[0m\u001b[0;34m\u001b[0m\u001b[0;34m\u001b[0m\u001b[0m\n\u001b[0;32m-> 2675\u001b[0;31m             \u001b[0mfetched\u001b[0m \u001b[0;34m=\u001b[0m \u001b[0mself\u001b[0m\u001b[0;34m.\u001b[0m\u001b[0m_callable_fn\u001b[0m\u001b[0;34m(\u001b[0m\u001b[0;34m*\u001b[0m\u001b[0marray_vals\u001b[0m\u001b[0;34m)\u001b[0m\u001b[0;34m\u001b[0m\u001b[0;34m\u001b[0m\u001b[0m\n\u001b[0m\u001b[1;32m   2676\u001b[0m         \u001b[0;32mreturn\u001b[0m \u001b[0mfetched\u001b[0m\u001b[0;34m[\u001b[0m\u001b[0;34m:\u001b[0m\u001b[0mlen\u001b[0m\u001b[0;34m(\u001b[0m\u001b[0mself\u001b[0m\u001b[0;34m.\u001b[0m\u001b[0moutputs\u001b[0m\u001b[0;34m)\u001b[0m\u001b[0;34m]\u001b[0m\u001b[0;34m\u001b[0m\u001b[0;34m\u001b[0m\u001b[0m\n\u001b[1;32m   2677\u001b[0m \u001b[0;34m\u001b[0m\u001b[0m\n",
      "\u001b[0;32m~/anaconda3/envs/dstk/lib/python3.6/site-packages/tensorflow/python/client/session.py\u001b[0m in \u001b[0;36m__call__\u001b[0;34m(self, *args, **kwargs)\u001b[0m\n\u001b[1;32m   1397\u001b[0m           ret = tf_session.TF_SessionRunCallable(\n\u001b[1;32m   1398\u001b[0m               \u001b[0mself\u001b[0m\u001b[0;34m.\u001b[0m\u001b[0m_session\u001b[0m\u001b[0;34m.\u001b[0m\u001b[0m_session\u001b[0m\u001b[0;34m,\u001b[0m \u001b[0mself\u001b[0m\u001b[0;34m.\u001b[0m\u001b[0m_handle\u001b[0m\u001b[0;34m,\u001b[0m \u001b[0margs\u001b[0m\u001b[0;34m,\u001b[0m \u001b[0mstatus\u001b[0m\u001b[0;34m,\u001b[0m\u001b[0;34m\u001b[0m\u001b[0;34m\u001b[0m\u001b[0m\n\u001b[0;32m-> 1399\u001b[0;31m               run_metadata_ptr)\n\u001b[0m\u001b[1;32m   1400\u001b[0m         \u001b[0;32mif\u001b[0m \u001b[0mrun_metadata\u001b[0m\u001b[0;34m:\u001b[0m\u001b[0;34m\u001b[0m\u001b[0;34m\u001b[0m\u001b[0m\n\u001b[1;32m   1401\u001b[0m           \u001b[0mproto_data\u001b[0m \u001b[0;34m=\u001b[0m \u001b[0mtf_session\u001b[0m\u001b[0;34m.\u001b[0m\u001b[0mTF_GetBuffer\u001b[0m\u001b[0;34m(\u001b[0m\u001b[0mrun_metadata_ptr\u001b[0m\u001b[0;34m)\u001b[0m\u001b[0;34m\u001b[0m\u001b[0;34m\u001b[0m\u001b[0m\n",
      "\u001b[0;31mKeyboardInterrupt\u001b[0m: "
     ]
    }
   ],
   "source": [
    "train_steps = train_generator.n//train_generator.batch_size\n",
    "validation_steps = validation_generator.n//validation_generator.batch_size\n",
    "es = EarlyStopping(monitor='val_loss', mode='min', verbose=1, patience=15)\n",
    "mc = ModelCheckpoint('vgg_16_step_1.h5', monitor='val_loss', mode='min', save_best_only=True)\n",
    "learning_rate_reduction = ReduceLROnPlateau(monitor='val_loss', patience=4, verbose=1, factor=0.5, min_lr=0.0000001)\n",
    "history = model.fit_generator(train_generator,steps_per_epoch=train_steps, epochs=60,\n",
    "                              validation_data=validation_generator,validation_steps=validation_steps,\n",
    "                              callbacks=[es, mc, learning_rate_reduction],\n",
    "                              workers=6, max_queue_size=30)"
   ]
  },
  {
   "cell_type": "code",
   "execution_count": null,
   "metadata": {},
   "outputs": [],
   "source": []
  }
 ],
 "metadata": {
  "kernelspec": {
   "display_name": "Python 3",
   "language": "python",
   "name": "python3"
  },
  "language_info": {
   "codemirror_mode": {
    "name": "ipython",
    "version": 3
   },
   "file_extension": ".py",
   "mimetype": "text/x-python",
   "name": "python",
   "nbconvert_exporter": "python",
   "pygments_lexer": "ipython3",
   "version": "3.6.9-final"
  }
 },
 "nbformat": 4,
 "nbformat_minor": 4
}